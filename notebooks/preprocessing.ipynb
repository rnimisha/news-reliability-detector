{
 "cells": [
  {
   "cell_type": "code",
   "execution_count": 123,
   "metadata": {},
   "outputs": [],
   "source": [
    "import os\n",
    "\n",
    "project_root = \"/Users/nimisha/Desktop/learning/news-reliability-detector/\"\n",
    "os.chdir(project_root)"
   ]
  },
  {
   "cell_type": "code",
   "execution_count": 124,
   "metadata": {},
   "outputs": [],
   "source": [
    "from pyspark.sql import SparkSession\n",
    "from pyspark.sql.functions import col, lower, regexp_replace, udf, concat\n",
    "from pyspark.sql.types import StringType\n",
    "\n",
    "# local modules\n",
    "from src.load.load_data import load\n",
    "from src.preprocessing.preprocessing import (\n",
    "    print_null_rows,\n",
    "    drop_missing_text_rows,\n",
    "    shuffle_rows,\n",
    "    remove_stop_words,\n",
    "    stem_words,\n",
    ")"
   ]
  },
  {
   "cell_type": "code",
   "execution_count": 125,
   "metadata": {},
   "outputs": [],
   "source": [
    "spark = SparkSession.builder.appName(\"NewsReliability\").getOrCreate()"
   ]
  },
  {
   "cell_type": "code",
   "execution_count": 126,
   "metadata": {},
   "outputs": [
    {
     "name": "stderr",
     "output_type": "stream",
     "text": [
      "                                                                                \r"
     ]
    }
   ],
   "source": [
    "data = load(spark)"
   ]
  },
  {
   "cell_type": "code",
   "execution_count": 127,
   "metadata": {},
   "outputs": [
    {
     "name": "stdout",
     "output_type": "stream",
     "text": [
      "+--------------------+--------------------+-------+-----------------+------+\n",
      "|               title|                text|subject|             date|target|\n",
      "+--------------------+--------------------+-------+-----------------+------+\n",
      "| Donald Trump Sen...|Donald Trump just...|   News|December 31, 2017|     1|\n",
      "| Drunk Bragging T...|House Intelligenc...|   News|December 31, 2017|     1|\n",
      "| Sheriff David Cl...|On Friday, it was...|   News|December 30, 2017|     1|\n",
      "| Trump Is So Obse...|On Christmas day,...|   News|December 29, 2017|     1|\n",
      "| Pope Francis Jus...|Pope Francis used...|   News|December 25, 2017|     1|\n",
      "| Racist Alabama C...|The number of cas...|   News|December 25, 2017|     1|\n",
      "| Fresh Off The Go...|Donald Trump spen...|   News|December 23, 2017|     1|\n",
      "| Trump Said Some ...|In the wake of ye...|   News|December 23, 2017|     1|\n",
      "| Former CIA Direc...|Many people have ...|   News|December 22, 2017|     1|\n",
      "| WATCH: Brand-New...|Just when you mig...|   News|December 21, 2017|     1|\n",
      "+--------------------+--------------------+-------+-----------------+------+\n",
      "only showing top 10 rows\n",
      "\n"
     ]
    }
   ],
   "source": [
    "data.show(10)"
   ]
  },
  {
   "cell_type": "code",
   "execution_count": 128,
   "metadata": {},
   "outputs": [
    {
     "name": "stdout",
     "output_type": "stream",
     "text": [
      "root\n",
      " |-- title: string (nullable = true)\n",
      " |-- text: string (nullable = true)\n",
      " |-- subject: string (nullable = true)\n",
      " |-- date: string (nullable = true)\n",
      " |-- target: integer (nullable = false)\n",
      "\n"
     ]
    }
   ],
   "source": [
    "data.printSchema()"
   ]
  },
  {
   "cell_type": "markdown",
   "metadata": {},
   "source": [
    "# Handling Missing Values"
   ]
  },
  {
   "cell_type": "code",
   "execution_count": 129,
   "metadata": {},
   "outputs": [
    {
     "name": "stdout",
     "output_type": "stream",
     "text": [
      "+-----+----+-------+----+------+\n",
      "|title|text|subject|date|target|\n",
      "+-----+----+-------+----+------+\n",
      "|    0|   8|      8|   8|     0|\n",
      "+-----+----+-------+----+------+\n",
      "\n"
     ]
    },
    {
     "name": "stderr",
     "output_type": "stream",
     "text": [
      "                                                                                \r"
     ]
    }
   ],
   "source": [
    "print_null_rows(data)"
   ]
  },
  {
   "cell_type": "code",
   "execution_count": 130,
   "metadata": {},
   "outputs": [
    {
     "name": "stdout",
     "output_type": "stream",
     "text": [
      "+--------------------+----+-------+----+------+\n",
      "|               title|text|subject|date|target|\n",
      "+--------------------+----+-------+----+------+\n",
      "|                   \"|NULL|   NULL|NULL|     1|\n",
      "|Ex-GOP Congressma...|NULL|   NULL|NULL|     1|\n",
      "|                   \"|NULL|   NULL|NULL|     1|\n",
      "|WATCH: Democratic...|NULL|   NULL|NULL|     1|\n",
      "|                   \"|NULL|   NULL|NULL|     1|\n",
      "|Trump Gets STOMPE...|NULL|   NULL|NULL|     1|\n",
      "|                   \"|NULL|   NULL|NULL|     1|\n",
      "|Donald Trump Gets...|NULL|   NULL|NULL|     1|\n",
      "+--------------------+----+-------+----+------+\n",
      "\n"
     ]
    }
   ],
   "source": [
    "data.filter(data.text.isNull()).show()"
   ]
  },
  {
   "cell_type": "code",
   "execution_count": 131,
   "metadata": {},
   "outputs": [],
   "source": [
    "data = drop_missing_text_rows(data)"
   ]
  },
  {
   "cell_type": "code",
   "execution_count": 132,
   "metadata": {},
   "outputs": [
    {
     "name": "stdout",
     "output_type": "stream",
     "text": [
      "+-----+----+-------+----+------+\n",
      "|title|text|subject|date|target|\n",
      "+-----+----+-------+----+------+\n",
      "+-----+----+-------+----+------+\n",
      "\n"
     ]
    }
   ],
   "source": [
    "data.filter(data.text.isNull()).show()"
   ]
  },
  {
   "cell_type": "code",
   "execution_count": 133,
   "metadata": {},
   "outputs": [
    {
     "name": "stdout",
     "output_type": "stream",
     "text": [
      "+-----+----+-------+----+------+\n",
      "|title|text|subject|date|target|\n",
      "+-----+----+-------+----+------+\n",
      "|    0|   0|      0|   0|     0|\n",
      "+-----+----+-------+----+------+\n",
      "\n"
     ]
    }
   ],
   "source": [
    "print_null_rows(data)"
   ]
  },
  {
   "cell_type": "markdown",
   "metadata": {},
   "source": [
    "# Randomize the order of data rows"
   ]
  },
  {
   "cell_type": "code",
   "execution_count": 134,
   "metadata": {},
   "outputs": [
    {
     "name": "stdout",
     "output_type": "stream",
     "text": [
      "+--------------------+--------------------+------------+------------------+------+\n",
      "|               title|                text|     subject|              date|target|\n",
      "+--------------------+--------------------+------------+------------------+------+\n",
      "|EMPLOYEES IMPLANT...|We reported last ...|   left-news|       Aug 1, 2017|     1|\n",
      "|Brazil Supreme Co...|BRASILIA (Reuters...|   worldnews| October 13, 2017 |     0|\n",
      "|Hillary Supporter...|TMZ caught up wit...|    politics|       Feb 9, 2017|     1|\n",
      "|Canada's Trudeau ...|OTTAWA (Reuters) ...|politicsNews|   April 27, 2017 |     0|\n",
      "|Mugabe given unti...|HARARE (Reuters) ...|   worldnews|November 19, 2017 |     0|\n",
      "|WATCH: Democrat H...| The newly electe...|   left-news|      Dec 17, 2017|     1|\n",
      "|FAKE NEWS! MAXINE...|                    |   left-news|      Mar 20, 2017|     1|\n",
      "|Merkel meets Trum...|BERLIN (Reuters) ...|politicsNews|   March 12, 2017 |     0|\n",
      "|THE VIDEO HILLARY...|Spread this EVERY...|    politics|       Mar 9, 2016|     1|\n",
      "|Venezuela opposit...|CARACAS/MARACAIBO...|   worldnews| November 3, 2017 |     0|\n",
      "+--------------------+--------------------+------------+------------------+------+\n",
      "only showing top 10 rows\n",
      "\n"
     ]
    }
   ],
   "source": [
    "data = shuffle_rows(data)\n",
    "data.show(10)"
   ]
  },
  {
   "cell_type": "markdown",
   "metadata": {},
   "source": [
    "## Feature Creating"
   ]
  },
  {
   "cell_type": "code",
   "execution_count": 135,
   "metadata": {},
   "outputs": [
    {
     "name": "stdout",
     "output_type": "stream",
     "text": [
      "+--------------------+--------------------+---------+-----------------+------+--------------------+\n",
      "|               title|                text|  subject|             date|target|             content|\n",
      "+--------------------+--------------------+---------+-----------------+------+--------------------+\n",
      "|EMPLOYEES IMPLANT...|We reported last ...|left-news|      Aug 1, 2017|     1|EMPLOYEES IMPLANT...|\n",
      "|Brazil Supreme Co...|BRASILIA (Reuters...|worldnews|October 13, 2017 |     0|Brazil Supreme Co...|\n",
      "|Hillary Supporter...|TMZ caught up wit...| politics|      Feb 9, 2017|     1|Hillary Supporter...|\n",
      "+--------------------+--------------------+---------+-----------------+------+--------------------+\n",
      "only showing top 3 rows\n",
      "\n"
     ]
    }
   ],
   "source": [
    "# combine title and text column to make news content\n",
    "data = data.withColumn('content', concat(data['title'], data['text']))\n",
    "data.show(3)"
   ]
  },
  {
   "cell_type": "code",
   "execution_count": 136,
   "metadata": {},
   "outputs": [
    {
     "name": "stdout",
     "output_type": "stream",
     "text": [
      "+-------------------------------------------------------------------------------------------------------------------------------------------------------------------------------------------------------------------------------------------------------------------------------------------------------------------------------------------------------------------------------------------------------------------------------------------------------------------------------------------------------------------------------------------------------------------------------------------------------------------------------------------------------------------------------------------------------------------------------------------------------------------------------------------------------------------------------------------------------------------------------------------------------------------------------------------------------------------------------------------------------------------------------------------------------------------------------------------------------------------------------------------------------------------------------------------------------------------------------------------------------------------------------------------------------------------------------------------------------------------------------------------------------------------------------------------------------------------------------------------------------------------------------------------------------------------------------------------------------------------------------------------------------------------------------------------------------------------------------------------------------------------------------------------------------------------------------------------------------------------------------------------------------------------------------------------------------------------------------------------------------------------------------------------------------------------------------------------------------------------------------------------------------------------------------------------------------------------------------------------------------------------------------------------------------------------------------------------------------------------------------------------------------------------------------------------------------------------------------------------------------------------------------------------------------------------------------------------------------------------------------------------------------------------------------------------------------------------------------------------------------------------------------------------------------------------------------------------------------------------------------------------------------------------------------------------------------------------------------------------------------------------------------------------------------------------------------------------------------------------------------------------------------------------------------------------------------------------------------------------------------------------------------------------------------------------------------------------------------------------------------------------------------------------------------------------------------------------------------------------------------------------------------------+\n",
      "|content                                                                                                                                                                                                                                                                                                                                                                                                                                                                                                                                                                                                                                                                                                                                                                                                                                                                                                                                                                                                                                                                                                                                                                                                                                                                                                                                                                                                                                                                                                                                                                                                                                                                                                                                                                                                                                                                                                                                                                                                                                                                                                                                                                                                                                                                                                                                                                                                                                                                                                                                                                                                                                                                                                                                                                                                                                                                                                                                                                                                                                                                                                                                                                                                                                                                                                                                                                                                                                                                                                                              |\n",
      "+-------------------------------------------------------------------------------------------------------------------------------------------------------------------------------------------------------------------------------------------------------------------------------------------------------------------------------------------------------------------------------------------------------------------------------------------------------------------------------------------------------------------------------------------------------------------------------------------------------------------------------------------------------------------------------------------------------------------------------------------------------------------------------------------------------------------------------------------------------------------------------------------------------------------------------------------------------------------------------------------------------------------------------------------------------------------------------------------------------------------------------------------------------------------------------------------------------------------------------------------------------------------------------------------------------------------------------------------------------------------------------------------------------------------------------------------------------------------------------------------------------------------------------------------------------------------------------------------------------------------------------------------------------------------------------------------------------------------------------------------------------------------------------------------------------------------------------------------------------------------------------------------------------------------------------------------------------------------------------------------------------------------------------------------------------------------------------------------------------------------------------------------------------------------------------------------------------------------------------------------------------------------------------------------------------------------------------------------------------------------------------------------------------------------------------------------------------------------------------------------------------------------------------------------------------------------------------------------------------------------------------------------------------------------------------------------------------------------------------------------------------------------------------------------------------------------------------------------------------------------------------------------------------------------------------------------------------------------------------------------------------------------------------------------------------------------------------------------------------------------------------------------------------------------------------------------------------------------------------------------------------------------------------------------------------------------------------------------------------------------------------------------------------------------------------------------------------------------------------------------------------------------------------------+\n",
      "|EMPLOYEES IMPLANTED WITH MICROCHIP at “Chip Party”…First Company in US to Have Microchip ProgramWe reported last week on the Wisconsin company that is the first in the US to have a microchip program. Please see our previous report after the update below.Three Square Market has received international attention since it announced the voluntary microchip program, believed to be the first of its kind in the United States.The microchip program is voluntary. If willing, employees allow the company to implant a Radio-Frequency Identification chip between the thumb and forefinger.The RFID chip will open doors, log in to computers, and make purchases from vending machines. The technology is similar to mobile pay services like Apple Pay and Google Wallet.Three Square Market assures employees that they will not be able to track them because the chip does not have GPS. Data on the microchip is encrypted.The company says the chip is FDA approved. It is removed  similar to a splinter. A reporter from our Milwaukee partner station WISN is covering the  chip party.  Tim Elliott had a chip implanted and tweeted that it  hurt a bit   like a mean pinch. Read more: wbayIT BEGINS: Wisconsin Company First in US to Implant Microchips in EmployeesIf you worked for a company that offered the convenience of a microchip implanted in your hand, would you get it? A company in Wisconsin is going with the trend:  It s the next thing that s inevitably going to happen, and we want to be a part of it. RIVER FALLS, Wisc.   A company in Wisconsin is about to become the first in the US to offer microchip implants to its employees. It s the next thing that s inevitably going to happen, and we want to be a part of it,  Three Square Market Chief Executive Officer Todd Westby told KTSP.The company designs software for electronic break room markets, are commonly found in office complexes.People are currently able to purchase items at the market using phones, but Westby wants to take things a step further and implant a microchip inside a person s hand. We ll come up, scan the item,  he explained, while showing how the process will work at an actual break room market kiosk.  We ll hit pay with a credit card, and it s asking to swipe my proximity payment now. I ll hold my hand up, just like my cell phone, and it ll pay for my product. More than 50 employees are having the devices implanted starting next week. Each chip, which is implanted between a person s thumb and forefinger, is about the size of a single grain of rice.Along with purchasing market kiosk items, employees will be able to use the chip to get into the front door and log onto their computers.Each chip costs $300, but the company is eating the cost. They re implanted between a person s thumb and forefinger.Westby added the data is both encrypted and secure.* There s no GPS tracking at all,  he said.FORTUNE reported:The company is working with Biohax International, a Swedish company specializing in  smart biometric sensors.  The embedded chip uses the same sort of near-field communications (NFC) technology that enables people to hold up their phones to a device to make payments. *The chips also rely on wireless RFID (radio frequency identification) technology used to track packages in transit.***DOES ANYONE ELSE SEE A RED FLAG HERE?No employees at Three Square Market will be required to get the chip implant.Via: wbrz|\n",
      "|Brazil Supreme Court blocks extradition of Italian leftist ex-guerilla BattistiBRASILIA (Reuters) - A Supreme Court injunction on Friday temporarily blocked the extradition of Cesare Battisti, an Italian left-wing former guerrilla convicted of murder in his country. The decision by Justice Luiz Fux prevents the Brazilian government from extraditing Battisti until the full court can rule on habeas corpus request from Battisti s lawyers, a ruling that is expected within two weeks. The former guerrilla was briefly arrested this month when trying to leave the country. Battisti faces life in prison in Italy, where he was convicted of four murders committed in the 1970s, when he belonged to a guerilla group called Armed Proletarians for Communism. He escaped from prison in 1981 and lived in France before fleeing to Brazil to avoid being extradited to Italy. Brazil s Supreme Court authorized Battisti s extradition in 2009, but he was not sent back to Italy because former leftist President Luis Inacio Lula da Silva granted him refugee status on his last day in office in 2010.                                                                                                                                                                                                                                                                                                                                                                                                                                                                                                                                                                                                                                                                                                                                                                                                                                                                                                                                                                                                                                                                                                                                                                                                                                                                                                                                                                                                                                                                                                                                                                                                                                                                                                                                                                                                                                                                                                                                                                                                                                                                                                                                                                                                                                                                                                                                                                                                         |\n",
      "|Hillary Supporter MARK CUBAN Makes Most Ignorant Statement About Trump Since Election When He Claimed Stock Market Would Tank [VIDEO]TMZ caught up with Mavericks owner and Hillary supporter Mark Cuban yesterday to ask what he thought of President Donald J. Trump. Arizona citizens must be thrilled to hear billionaire Mark Cuban who has personal security surrounding him talk about how ridiculous Trump s efforts to secure our borders and keep our nation safe from foreigners who sneak in with actual refugees with a goal of doing harm to our nation.WATCH CUBAN S SOUR GRAPES INTERVIEW HERE:Well, that s not exactly what happened now is it Cuban?Here s what REALLY happened to the stock market after Trump s election: Market Watch   U.S. stocks rallied Wednesday, with the Dow industrials jumping 257 points, led by a surge in financial, health-care and industrial stocks, as investors bet on the infrastructure spending policy promised by President-elect Donald Trump.The Dow Jones Industrial Average DJIA, +1.40% gained as much as 316 points, briefly surpassing the all-time closing high set in August. The index closed 256.95 points, or 1.4%, higher at 18,589.69, its highest level since Aug. 18. Pfizer Inc. PFE, +7.07% and Caterpillar Inc CAT, +7.70% led the gains, rallying more than 7%.Way to go Cuban you just reminded us of how little you know about economics or choosing the right candidate for President Keep up the great work Mark. You re really helping out your brand.                                                                                                                                                                                                                                                                                                                                                                                                                                                                                                                                                                                                                                                                                                                                                                                                                                                                                                                                                                                                                                                                                                                                                                                                                                                                                                                                                                                                                                                                                                                                                                                                                                                                                                                                                                                                                                                                                                                                                                                            |\n",
      "|Canada's Trudeau tells Trump a NAFTA pullout would be too painfulOTTAWA (Reuters) - Canadian Prime Minister Justin Trudeau said on Thursday he had urged U.S. President Donald Trump not to withdraw from the North American Free Trade Agreement because it would cause a lot of pain on both sides of the border. The White House said earlier that Trump told the leaders of Canada and Mexico in separate calls on Wednesday that he would not terminate the NAFTA treaty at this stage, but would move quickly to begin renegotiating it with them. Trump, who says NAFTA has been a disaster for American workers, has threatened several times to walk away from the three-nation pact unless major changes are made. Mexico is the third member. “He (said on the call) he was very much thinking about canceling and I highlighted quite frankly ... that a disruption like canceling NAFTA, even if it theoretically eventually might lead to better outcomes, would cause a lot of short and medium-term pain,” said Trudeau. “That’s not something that either one of us would want so we agreed that we could sit down and get to work on looking at ways to improve NAFTA,” Trudeau told a televised news conference in Gray, Saskatchewan. Any move to break up NAFTA would cause great economic damage to Canada, which sends 75 percent of all its exports to the United States. Trump’s administration has yet to formally advise the U.S. Congress of its intention to open negotiations. A Canadian source familiar with the matter said Trudeau had added in his comments to Trump that pulling out of NAFTA would be counter-productive. Canadian officials have so far taken a largely restrained attitude to Trump’s harsh language on NAFTA, describing it as a negotiating tactic ahead of the talks. That said, government ministers have made clear Canada could slap sanctions on the United States if it decided to impose protectionist measures such as a border tariff. Trudeau, asked about possible trade retaliation, said Canada preferred to work with the United States constructively but added: “There’s no question there’s a broad range of options and paths available to us that we’re looking at.” He did not give details but the Trump administration on Monday moved to impose tariffs on imported Canadian lumber that mostly feeds U.S. homebuilding.                                                                                                                                                                                                                                                                                                                                                                                                                                                                                                                                                                                                                                                                                                                                                                                                                                                                                                                                                                                                                                                                                                                             |\n",
      "|Mugabe given until noon Monday to quit as Zimbabwe PresidentHARARE (Reuters) - Zimbabwe s ruling ZANU-PF party has given Robert Mugabe until noon (5.00 a.m. ET) on Monday to step down as President or face impeachment, cyber security minister Patrick Chinamasa said on Sunday. He was speaking at a televised news conference after a special party meeting at which Mugabe was sacked as ZANU-PF leader.                                                                                                                                                                                                                                                                                                                                                                                                                                                                                                                                                                                                                                                                                                                                                                                                                                                                                                                                                                                                                                                                                                                                                                                                                                                                                                                                                                                                                                                                                                                                                                                                                                                                                                                                                                                                                                                                                                                                                                                                                                                                                                                                                                                                                                                                                                                                                                                                                                                                                                                                                                                                                                                                                                                                                                                                                                                                                                                                                                                                                                                                                                                       |\n",
      "+-------------------------------------------------------------------------------------------------------------------------------------------------------------------------------------------------------------------------------------------------------------------------------------------------------------------------------------------------------------------------------------------------------------------------------------------------------------------------------------------------------------------------------------------------------------------------------------------------------------------------------------------------------------------------------------------------------------------------------------------------------------------------------------------------------------------------------------------------------------------------------------------------------------------------------------------------------------------------------------------------------------------------------------------------------------------------------------------------------------------------------------------------------------------------------------------------------------------------------------------------------------------------------------------------------------------------------------------------------------------------------------------------------------------------------------------------------------------------------------------------------------------------------------------------------------------------------------------------------------------------------------------------------------------------------------------------------------------------------------------------------------------------------------------------------------------------------------------------------------------------------------------------------------------------------------------------------------------------------------------------------------------------------------------------------------------------------------------------------------------------------------------------------------------------------------------------------------------------------------------------------------------------------------------------------------------------------------------------------------------------------------------------------------------------------------------------------------------------------------------------------------------------------------------------------------------------------------------------------------------------------------------------------------------------------------------------------------------------------------------------------------------------------------------------------------------------------------------------------------------------------------------------------------------------------------------------------------------------------------------------------------------------------------------------------------------------------------------------------------------------------------------------------------------------------------------------------------------------------------------------------------------------------------------------------------------------------------------------------------------------------------------------------------------------------------------------------------------------------------------------------------------------------------+\n",
      "only showing top 5 rows\n",
      "\n"
     ]
    }
   ],
   "source": [
    "data.select(\"content\").show(n = 5, truncate=False)"
   ]
  },
  {
   "cell_type": "markdown",
   "metadata": {},
   "source": [
    "# Drop columns"
   ]
  },
  {
   "cell_type": "code",
   "execution_count": 137,
   "metadata": {},
   "outputs": [
    {
     "name": "stdout",
     "output_type": "stream",
     "text": [
      "+------+--------------------+\n",
      "|target|             content|\n",
      "+------+--------------------+\n",
      "|     1|EMPLOYEES IMPLANT...|\n",
      "|     0|Brazil Supreme Co...|\n",
      "+------+--------------------+\n",
      "only showing top 2 rows\n",
      "\n"
     ]
    }
   ],
   "source": [
    "columns_to_drop = [\"date\", \"title\", \"subject\", \"text\"]\n",
    "data = data.drop(*columns_to_drop)\n",
    "data.show(2)"
   ]
  },
  {
   "cell_type": "markdown",
   "metadata": {},
   "source": [
    "# Duplicate Rows"
   ]
  },
  {
   "cell_type": "code",
   "execution_count": 138,
   "metadata": {},
   "outputs": [
    {
     "name": "stderr",
     "output_type": "stream",
     "text": [
      "                                                                                \r"
     ]
    },
    {
     "name": "stdout",
     "output_type": "stream",
     "text": [
      "Duplicates 5305\n",
      "Total 44899\n"
     ]
    },
    {
     "name": "stderr",
     "output_type": "stream",
     "text": [
      "[Stage 480:=====================================>                 (11 + 5) / 16]\r"
     ]
    },
    {
     "name": "stdout",
     "output_type": "stream",
     "text": [
      "Distinct 39106\n"
     ]
    },
    {
     "name": "stderr",
     "output_type": "stream",
     "text": [
      "                                                                                \r"
     ]
    }
   ],
   "source": [
    "duplicate_rows = data.groupBy(data.columns).count().filter(\"count > 1\")\n",
    "\n",
    "print(\"Duplicates\", duplicate_rows.count())\n",
    "print(\"Total\", data.count())\n",
    "print(\"Distinct\", data.distinct().count())"
   ]
  },
  {
   "cell_type": "code",
   "execution_count": 139,
   "metadata": {},
   "outputs": [
    {
     "name": "stderr",
     "output_type": "stream",
     "text": [
      "[Stage 486:===============================>                        (9 + 7) / 16]\r"
     ]
    },
    {
     "name": "stdout",
     "output_type": "stream",
     "text": [
      "+------+--------------------+-----+\n",
      "|target|             content|count|\n",
      "+------+--------------------+-----+\n",
      "|     1|JUST IN: SUSPECTE...|    2|\n",
      "|     1|YOU’LL NEVER GUES...|    2|\n",
      "|     1|HOUSE INTEL Slaps...|    2|\n",
      "|     1|FLASHBACK: CNN HO...|    2|\n",
      "|     1|PRICELESS! WATCH ...|    2|\n",
      "|     1|CNN’S FAKE NEWS B...|    2|\n",
      "|     1|WATCH: MEGHAN MCC...|    2|\n",
      "|     1|“MAXINE WATERS IN...|    2|\n",
      "|     1|HEY CNN…REMEMBER ...|    2|\n",
      "|     1|HOW PRESIDENT TRU...|    2|\n",
      "+------+--------------------+-----+\n",
      "only showing top 10 rows\n",
      "\n"
     ]
    },
    {
     "name": "stderr",
     "output_type": "stream",
     "text": [
      "                                                                                \r"
     ]
    }
   ],
   "source": [
    "duplicate_rows.show(10)"
   ]
  },
  {
   "cell_type": "code",
   "execution_count": 140,
   "metadata": {},
   "outputs": [
    {
     "name": "stderr",
     "output_type": "stream",
     "text": [
      "                                                                                \r"
     ]
    },
    {
     "data": {
      "text/plain": [
       "39106"
      ]
     },
     "execution_count": 140,
     "metadata": {},
     "output_type": "execute_result"
    }
   ],
   "source": [
    "data = data.dropDuplicates()\n",
    "data.count()"
   ]
  },
  {
   "cell_type": "markdown",
   "metadata": {},
   "source": [
    "# Text Transform "
   ]
  },
  {
   "cell_type": "markdown",
   "metadata": {},
   "source": [
    "### 1. Lower Case"
   ]
  },
  {
   "cell_type": "code",
   "execution_count": 141,
   "metadata": {},
   "outputs": [
    {
     "name": "stderr",
     "output_type": "stream",
     "text": [
      "[Stage 495:============================>                           (8 + 8) / 16]\r"
     ]
    },
    {
     "name": "stdout",
     "output_type": "stream",
     "text": [
      "+------+--------------------+\n",
      "|target|             content|\n",
      "+------+--------------------+\n",
      "|     1| trump bucks gop ...|\n",
      "|     1| australia prime ...|\n",
      "|     1| mccain f*cked ov...|\n",
      "|     1| american psychoa...|\n",
      "|     1| senate gives tru...|\n",
      "+------+--------------------+\n",
      "only showing top 5 rows\n",
      "\n"
     ]
    },
    {
     "name": "stderr",
     "output_type": "stream",
     "text": [
      "                                                                                \r"
     ]
    }
   ],
   "source": [
    "# convert to all lower case\n",
    "data = data.withColumn(\"content\", lower(col(\"content\")))\n",
    "data.show(5)"
   ]
  },
  {
   "cell_type": "markdown",
   "metadata": {},
   "source": [
    "### 2. Remove Special Characters \n",
    "- like ! @"
   ]
  },
  {
   "cell_type": "code",
   "execution_count": 142,
   "metadata": {},
   "outputs": [
    {
     "name": "stderr",
     "output_type": "stream",
     "text": [
      "[Stage 498:===============================>                        (9 + 7) / 16]\r"
     ]
    },
    {
     "name": "stdout",
     "output_type": "stream",
     "text": [
      "+------+--------------------+\n",
      "|target|             content|\n",
      "+------+--------------------+\n",
      "|     1| trump bucks gop ...|\n",
      "|     1| australia prime ...|\n",
      "|     1| mccain fcked ove...|\n",
      "|     1| american psychoa...|\n",
      "|     1| senate gives tru...|\n",
      "+------+--------------------+\n",
      "only showing top 5 rows\n",
      "\n"
     ]
    },
    {
     "name": "stderr",
     "output_type": "stream",
     "text": [
      "                                                                                \r"
     ]
    }
   ],
   "source": [
    "data = data.withColumn(\"content\", regexp_replace(\"content\", \"[^a-zA-Z0-9\\\\s]\", \"\"))\n",
    "data.show(5)"
   ]
  },
  {
   "cell_type": "markdown",
   "metadata": {},
   "source": [
    "### 3. Remove Stopwords"
   ]
  },
  {
   "cell_type": "code",
   "execution_count": 143,
   "metadata": {},
   "outputs": [
    {
     "name": "stderr",
     "output_type": "stream",
     "text": [
      "[Stage 507:>                                                        (0 + 1) / 1]\r"
     ]
    },
    {
     "name": "stdout",
     "output_type": "stream",
     "text": [
      "+------+--------------------+\n",
      "|target|             content|\n",
      "+------+--------------------+\n",
      "|     1|mainstream media ...|\n",
      "|     0|air strikes kill ...|\n",
      "|     1|new normal massiv...|\n",
      "|     0|syrias eastern gh...|\n",
      "|     1|trumps staff thin...|\n",
      "|     1|cher rosie desper...|\n",
      "|     1|trump faking poll...|\n",
      "|     1|illegal immigrant...|\n",
      "|     0|des moines regist...|\n",
      "|     0|trump denies aski...|\n",
      "+------+--------------------+\n",
      "only showing top 10 rows\n",
      "\n"
     ]
    },
    {
     "name": "stderr",
     "output_type": "stream",
     "text": [
      "                                                                                \r"
     ]
    }
   ],
   "source": [
    "remove_stop_words_udf = udf(remove_stop_words, StringType())\n",
    "data = data.withColumn(\"content\", remove_stop_words_udf(\"content\"))\n",
    "data.show(10)"
   ]
  },
  {
   "cell_type": "markdown",
   "metadata": {},
   "source": [
    "### 4. Stemming words"
   ]
  },
  {
   "cell_type": "code",
   "execution_count": 144,
   "metadata": {},
   "outputs": [
    {
     "name": "stderr",
     "output_type": "stream",
     "text": [
      "[Stage 514:>                                                        (0 + 1) / 1]\r"
     ]
    },
    {
     "name": "stdout",
     "output_type": "stream",
     "text": [
      "+------+--------------------+\n",
      "|target|             content|\n",
      "+------+--------------------+\n",
      "|     1|mainstream media ...|\n",
      "|     0|air strike kill 6...|\n",
      "|     1|new normal massiv...|\n",
      "|     0|syria eastern gho...|\n",
      "|     1|trump staff think...|\n",
      "+------+--------------------+\n",
      "only showing top 5 rows\n",
      "\n"
     ]
    },
    {
     "name": "stderr",
     "output_type": "stream",
     "text": [
      "                                                                                \r"
     ]
    }
   ],
   "source": [
    "stem_words_udf = udf(stem_words, StringType())\n",
    "data = data.withColumn(\"content\", stem_words_udf(\"content\"))\n",
    "data.show(5)"
   ]
  },
  {
   "cell_type": "code",
   "execution_count": 145,
   "metadata": {},
   "outputs": [
    {
     "name": "stderr",
     "output_type": "stream",
     "text": [
      "                                                                                \r"
     ]
    }
   ],
   "source": [
    "path = \"data/processed\"\n",
    "if not os.path.exists(path):\n",
    "    os.makedirs(path)\n",
    "\n",
    "data.coalesce(1).toPandas().to_csv(\n",
    "    \"data/processed/processed.csv\", index=False\n",
    ")"
   ]
  }
 ],
 "metadata": {
  "kernelspec": {
   "display_name": "venv",
   "language": "python",
   "name": "python3"
  },
  "language_info": {
   "codemirror_mode": {
    "name": "ipython",
    "version": 3
   },
   "file_extension": ".py",
   "mimetype": "text/x-python",
   "name": "python",
   "nbconvert_exporter": "python",
   "pygments_lexer": "ipython3",
   "version": "3.12.0"
  }
 },
 "nbformat": 4,
 "nbformat_minor": 2
}
