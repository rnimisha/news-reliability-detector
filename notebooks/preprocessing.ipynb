{
 "cells": [
  {
   "cell_type": "code",
   "execution_count": 1,
   "metadata": {},
   "outputs": [],
   "source": [
    "import os\n",
    "\n",
    "project_root = \"/Users/nimisha/Desktop/learning/news-reliability-detector/\"\n",
    "os.chdir(project_root)"
   ]
  },
  {
   "cell_type": "code",
   "execution_count": 2,
   "metadata": {},
   "outputs": [],
   "source": [
    "from pyspark.sql import SparkSession\n",
    "\n",
    "# local modules\n",
    "from src.load.load_data import load\n",
    "from src.preprocessing.preprocessing import (\n",
    "    print_null_rows,\n",
    "    drop_missing_text_rows,\n",
    "    shuffle_rows\n",
    ")"
   ]
  },
  {
   "cell_type": "code",
   "execution_count": 3,
   "metadata": {},
   "outputs": [
    {
     "name": "stderr",
     "output_type": "stream",
     "text": [
      "Setting default log level to \"WARN\".\n",
      "To adjust logging level use sc.setLogLevel(newLevel). For SparkR, use setLogLevel(newLevel).\n",
      "23/12/24 13:34:43 WARN NativeCodeLoader: Unable to load native-hadoop library for your platform... using builtin-java classes where applicable\n"
     ]
    }
   ],
   "source": [
    "spark = SparkSession.builder.appName(\"NewsReliability\").getOrCreate()"
   ]
  },
  {
   "cell_type": "code",
   "execution_count": 4,
   "metadata": {},
   "outputs": [
    {
     "name": "stderr",
     "output_type": "stream",
     "text": [
      "                                                                                \r"
     ]
    }
   ],
   "source": [
    "data = load(spark)"
   ]
  },
  {
   "cell_type": "code",
   "execution_count": 5,
   "metadata": {},
   "outputs": [
    {
     "name": "stdout",
     "output_type": "stream",
     "text": [
      "+--------------------+--------------------+-------+-----------------+------+\n",
      "|               title|                text|subject|             date|target|\n",
      "+--------------------+--------------------+-------+-----------------+------+\n",
      "| Donald Trump Sen...|Donald Trump just...|   News|December 31, 2017|     1|\n",
      "| Drunk Bragging T...|House Intelligenc...|   News|December 31, 2017|     1|\n",
      "| Sheriff David Cl...|On Friday, it was...|   News|December 30, 2017|     1|\n",
      "| Trump Is So Obse...|On Christmas day,...|   News|December 29, 2017|     1|\n",
      "| Pope Francis Jus...|Pope Francis used...|   News|December 25, 2017|     1|\n",
      "| Racist Alabama C...|The number of cas...|   News|December 25, 2017|     1|\n",
      "| Fresh Off The Go...|Donald Trump spen...|   News|December 23, 2017|     1|\n",
      "| Trump Said Some ...|In the wake of ye...|   News|December 23, 2017|     1|\n",
      "| Former CIA Direc...|Many people have ...|   News|December 22, 2017|     1|\n",
      "| WATCH: Brand-New...|Just when you mig...|   News|December 21, 2017|     1|\n",
      "+--------------------+--------------------+-------+-----------------+------+\n",
      "only showing top 10 rows\n",
      "\n"
     ]
    }
   ],
   "source": [
    "data.show(10)"
   ]
  },
  {
   "cell_type": "code",
   "execution_count": 6,
   "metadata": {},
   "outputs": [
    {
     "name": "stdout",
     "output_type": "stream",
     "text": [
      "root\n",
      " |-- title: string (nullable = true)\n",
      " |-- text: string (nullable = true)\n",
      " |-- subject: string (nullable = true)\n",
      " |-- date: string (nullable = true)\n",
      " |-- target: integer (nullable = false)\n",
      "\n"
     ]
    }
   ],
   "source": [
    "data.printSchema()"
   ]
  },
  {
   "cell_type": "markdown",
   "metadata": {},
   "source": [
    "# Handling Missing Values"
   ]
  },
  {
   "cell_type": "code",
   "execution_count": 7,
   "metadata": {},
   "outputs": [
    {
     "name": "stderr",
     "output_type": "stream",
     "text": [
      "[Stage 4:=============================>                            (8 + 8) / 16]\r"
     ]
    },
    {
     "name": "stdout",
     "output_type": "stream",
     "text": [
      "+-----+----+-------+----+------+\n",
      "|title|text|subject|date|target|\n",
      "+-----+----+-------+----+------+\n",
      "|    0|   8|      8|   8|     0|\n",
      "+-----+----+-------+----+------+\n",
      "\n"
     ]
    },
    {
     "name": "stderr",
     "output_type": "stream",
     "text": [
      "                                                                                \r"
     ]
    }
   ],
   "source": [
    "print_null_rows(data)"
   ]
  },
  {
   "cell_type": "code",
   "execution_count": 8,
   "metadata": {},
   "outputs": [
    {
     "name": "stdout",
     "output_type": "stream",
     "text": [
      "+--------------------+----+-------+----+------+\n",
      "|               title|text|subject|date|target|\n",
      "+--------------------+----+-------+----+------+\n",
      "|                   \"|NULL|   NULL|NULL|     1|\n",
      "|Ex-GOP Congressma...|NULL|   NULL|NULL|     1|\n",
      "|                   \"|NULL|   NULL|NULL|     1|\n",
      "|WATCH: Democratic...|NULL|   NULL|NULL|     1|\n",
      "|                   \"|NULL|   NULL|NULL|     1|\n",
      "|Trump Gets STOMPE...|NULL|   NULL|NULL|     1|\n",
      "|                   \"|NULL|   NULL|NULL|     1|\n",
      "|Donald Trump Gets...|NULL|   NULL|NULL|     1|\n",
      "+--------------------+----+-------+----+------+\n",
      "\n"
     ]
    }
   ],
   "source": [
    "data.filter(data.text.isNull()).show()"
   ]
  },
  {
   "cell_type": "code",
   "execution_count": 9,
   "metadata": {},
   "outputs": [],
   "source": [
    "data = drop_missing_text_rows(data)"
   ]
  },
  {
   "cell_type": "code",
   "execution_count": 10,
   "metadata": {},
   "outputs": [
    {
     "name": "stdout",
     "output_type": "stream",
     "text": [
      "+-----+----+-------+----+------+\n",
      "|title|text|subject|date|target|\n",
      "+-----+----+-------+----+------+\n",
      "+-----+----+-------+----+------+\n",
      "\n"
     ]
    }
   ],
   "source": [
    "data.filter(data.text.isNull()).show()"
   ]
  },
  {
   "cell_type": "code",
   "execution_count": 11,
   "metadata": {},
   "outputs": [
    {
     "name": "stdout",
     "output_type": "stream",
     "text": [
      "+-----+----+-------+----+------+\n",
      "|title|text|subject|date|target|\n",
      "+-----+----+-------+----+------+\n",
      "|    0|   0|      0|   0|     0|\n",
      "+-----+----+-------+----+------+\n",
      "\n"
     ]
    }
   ],
   "source": [
    "print_null_rows(data)"
   ]
  },
  {
   "cell_type": "markdown",
   "metadata": {},
   "source": [
    "# Randomize the order of data rows"
   ]
  },
  {
   "cell_type": "code",
   "execution_count": 12,
   "metadata": {},
   "outputs": [
    {
     "name": "stdout",
     "output_type": "stream",
     "text": [
      "+--------------------+--------------------+------------+-------------------+------+\n",
      "|               title|                text|     subject|               date|target|\n",
      "+--------------------+--------------------+------------+-------------------+------+\n",
      "|Top U.S. Marine's...|WASHINGTON (Reute...|politicsNews|  December 5, 2016 |     0|\n",
      "|British woman win...|COLOMBO (Reuters)...|   worldnews| November 15, 2017 |     0|\n",
      "|Malawi vigilante ...|LILONGWE (Reuters...|   worldnews|  October 24, 2017 |     0|\n",
      "|Russia says Syria...|MOSCOW (Reuters) ...|politicsNews|     April 7, 2017 |     0|\n",
      "| Amazon Sells Out...|Conservatives are...|        News|   January 16, 2017|     1|\n",
      "|FACEBOOK HIRES PO...|Facebook has anno...|   left-news|       Dec 21, 2016|     1|\n",
      "|London demands an...|HONG KONG (Reuter...|   worldnews|  October 11, 2017 |     0|\n",
      "|Berlusconi's cent...|PALERMO, Italy (R...|   worldnews|  November 5, 2017 |     0|\n",
      "|Syria producing m...|DAMASCUS (Reuters...|   worldnews|September 26, 2017 |     0|\n",
      "|France to skip 20...|PARIS/SEOUL (Reut...|   worldnews|September 21, 2017 |     0|\n",
      "+--------------------+--------------------+------------+-------------------+------+\n",
      "only showing top 10 rows\n",
      "\n"
     ]
    }
   ],
   "source": [
    "data = shuffle_rows(data)\n",
    "data.show(10)"
   ]
  },
  {
   "cell_type": "code",
   "execution_count": null,
   "metadata": {},
   "outputs": [],
   "source": []
  }
 ],
 "metadata": {
  "kernelspec": {
   "display_name": "venv",
   "language": "python",
   "name": "python3"
  },
  "language_info": {
   "codemirror_mode": {
    "name": "ipython",
    "version": 3
   },
   "file_extension": ".py",
   "mimetype": "text/x-python",
   "name": "python",
   "nbconvert_exporter": "python",
   "pygments_lexer": "ipython3",
   "version": "3.12.0"
  }
 },
 "nbformat": 4,
 "nbformat_minor": 2
}
