{
 "cells": [
  {
   "cell_type": "code",
   "execution_count": 1,
   "metadata": {},
   "outputs": [],
   "source": [
    "import os\n",
    "\n",
    "project_root = \"/Users/nimisha/Desktop/learning/news-reliability-detector/\"\n",
    "os.chdir(project_root)"
   ]
  },
  {
   "cell_type": "code",
   "execution_count": 2,
   "metadata": {},
   "outputs": [
    {
     "name": "stderr",
     "output_type": "stream",
     "text": [
      "[nltk_data] Downloading package stopwords to\n",
      "[nltk_data]     /Users/nimisha/nltk_data...\n",
      "[nltk_data]   Package stopwords is already up-to-date!\n"
     ]
    }
   ],
   "source": [
    "from pyspark.sql import SparkSession\n",
    "from pyspark.sql.functions import col, lower, regexp_replace, udf\n",
    "from pyspark.sql.types import StringType\n",
    "\n",
    "# local modules\n",
    "from src.load.load_data import load\n",
    "from src.preprocessing.preprocessing import (\n",
    "    print_null_rows,\n",
    "    drop_missing_text_rows,\n",
    "    shuffle_rows,\n",
    "    remove_stop_words,\n",
    "    stem_words\n",
    ")"
   ]
  },
  {
   "cell_type": "code",
   "execution_count": 3,
   "metadata": {},
   "outputs": [
    {
     "name": "stderr",
     "output_type": "stream",
     "text": [
      "23/12/24 17:14:11 WARN Utils: Your hostname, centella.local resolves to a loopback address: 127.0.0.1; using 192.168.70.82 instead (on interface en0)\n",
      "23/12/24 17:14:11 WARN Utils: Set SPARK_LOCAL_IP if you need to bind to another address\n",
      "Setting default log level to \"WARN\".\n",
      "To adjust logging level use sc.setLogLevel(newLevel). For SparkR, use setLogLevel(newLevel).\n",
      "23/12/24 17:14:11 WARN NativeCodeLoader: Unable to load native-hadoop library for your platform... using builtin-java classes where applicable\n"
     ]
    }
   ],
   "source": [
    "spark = SparkSession.builder.appName(\"NewsReliability\").getOrCreate()"
   ]
  },
  {
   "cell_type": "code",
   "execution_count": 4,
   "metadata": {},
   "outputs": [],
   "source": [
    "data = load(spark)"
   ]
  },
  {
   "cell_type": "code",
   "execution_count": 5,
   "metadata": {},
   "outputs": [
    {
     "name": "stdout",
     "output_type": "stream",
     "text": [
      "+--------------------+--------------------+-------+-----------------+------+\n",
      "|               title|                text|subject|             date|target|\n",
      "+--------------------+--------------------+-------+-----------------+------+\n",
      "| Donald Trump Sen...|Donald Trump just...|   News|December 31, 2017|     1|\n",
      "| Drunk Bragging T...|House Intelligenc...|   News|December 31, 2017|     1|\n",
      "| Sheriff David Cl...|On Friday, it was...|   News|December 30, 2017|     1|\n",
      "| Trump Is So Obse...|On Christmas day,...|   News|December 29, 2017|     1|\n",
      "| Pope Francis Jus...|Pope Francis used...|   News|December 25, 2017|     1|\n",
      "| Racist Alabama C...|The number of cas...|   News|December 25, 2017|     1|\n",
      "| Fresh Off The Go...|Donald Trump spen...|   News|December 23, 2017|     1|\n",
      "| Trump Said Some ...|In the wake of ye...|   News|December 23, 2017|     1|\n",
      "| Former CIA Direc...|Many people have ...|   News|December 22, 2017|     1|\n",
      "| WATCH: Brand-New...|Just when you mig...|   News|December 21, 2017|     1|\n",
      "+--------------------+--------------------+-------+-----------------+------+\n",
      "only showing top 10 rows\n",
      "\n"
     ]
    }
   ],
   "source": [
    "data.show(10)"
   ]
  },
  {
   "cell_type": "code",
   "execution_count": 6,
   "metadata": {},
   "outputs": [
    {
     "name": "stdout",
     "output_type": "stream",
     "text": [
      "root\n",
      " |-- title: string (nullable = true)\n",
      " |-- text: string (nullable = true)\n",
      " |-- subject: string (nullable = true)\n",
      " |-- date: string (nullable = true)\n",
      " |-- target: integer (nullable = false)\n",
      "\n"
     ]
    }
   ],
   "source": [
    "data.printSchema()"
   ]
  },
  {
   "cell_type": "markdown",
   "metadata": {},
   "source": [
    "# Handling Missing Values"
   ]
  },
  {
   "cell_type": "code",
   "execution_count": 7,
   "metadata": {},
   "outputs": [
    {
     "name": "stdout",
     "output_type": "stream",
     "text": [
      "+-----+----+-------+----+------+\n",
      "|title|text|subject|date|target|\n",
      "+-----+----+-------+----+------+\n",
      "|    0|   8|      8|   8|     0|\n",
      "+-----+----+-------+----+------+\n",
      "\n"
     ]
    },
    {
     "name": "stderr",
     "output_type": "stream",
     "text": [
      "                                                                                \r"
     ]
    }
   ],
   "source": [
    "print_null_rows(data)"
   ]
  },
  {
   "cell_type": "code",
   "execution_count": 8,
   "metadata": {},
   "outputs": [
    {
     "name": "stdout",
     "output_type": "stream",
     "text": [
      "+--------------------+----+-------+----+------+\n",
      "|               title|text|subject|date|target|\n",
      "+--------------------+----+-------+----+------+\n",
      "|                   \"|NULL|   NULL|NULL|     1|\n",
      "|Ex-GOP Congressma...|NULL|   NULL|NULL|     1|\n",
      "|                   \"|NULL|   NULL|NULL|     1|\n",
      "|WATCH: Democratic...|NULL|   NULL|NULL|     1|\n",
      "|                   \"|NULL|   NULL|NULL|     1|\n",
      "|Trump Gets STOMPE...|NULL|   NULL|NULL|     1|\n",
      "|                   \"|NULL|   NULL|NULL|     1|\n",
      "|Donald Trump Gets...|NULL|   NULL|NULL|     1|\n",
      "+--------------------+----+-------+----+------+\n",
      "\n"
     ]
    }
   ],
   "source": [
    "data.filter(data.text.isNull()).show()"
   ]
  },
  {
   "cell_type": "code",
   "execution_count": 9,
   "metadata": {},
   "outputs": [],
   "source": [
    "data = drop_missing_text_rows(data)"
   ]
  },
  {
   "cell_type": "code",
   "execution_count": 10,
   "metadata": {},
   "outputs": [
    {
     "name": "stdout",
     "output_type": "stream",
     "text": [
      "+-----+----+-------+----+------+\n",
      "|title|text|subject|date|target|\n",
      "+-----+----+-------+----+------+\n",
      "+-----+----+-------+----+------+\n",
      "\n"
     ]
    }
   ],
   "source": [
    "data.filter(data.text.isNull()).show()"
   ]
  },
  {
   "cell_type": "code",
   "execution_count": 11,
   "metadata": {},
   "outputs": [
    {
     "name": "stdout",
     "output_type": "stream",
     "text": [
      "+-----+----+-------+----+------+\n",
      "|title|text|subject|date|target|\n",
      "+-----+----+-------+----+------+\n",
      "|    0|   0|      0|   0|     0|\n",
      "+-----+----+-------+----+------+\n",
      "\n"
     ]
    }
   ],
   "source": [
    "print_null_rows(data)"
   ]
  },
  {
   "cell_type": "markdown",
   "metadata": {},
   "source": [
    "# Randomize the order of data rows"
   ]
  },
  {
   "cell_type": "code",
   "execution_count": 12,
   "metadata": {},
   "outputs": [
    {
     "name": "stdout",
     "output_type": "stream",
     "text": [
      "+--------------------+--------------------+---------------+------------------+------+\n",
      "|               title|                text|        subject|              date|target|\n",
      "+--------------------+--------------------+---------------+------------------+------+\n",
      "|Yahoo under scrut...|NEW YORK (Reuters...|   politicsNews|December 15, 2016 |     0|\n",
      "|TRUMP SETS THE RE...|                    |       politics|      Nov 16, 2016|     1|\n",
      "|UK PM May says sh...|LONDON (Reuters) ...|      worldnews|December 22, 2017 |     0|\n",
      "|DEMOCRAT MOCKS AM...|Not that it matte...|      left-news|       Jun 5, 2015|     1|\n",
      "|YIKES! WHAT THE H...|Hillary was seen ...|       politics|       Sep 6, 2016|     1|\n",
      "|Saudi minister sa...|BEIRUT (Reuters) ...|      worldnews| November 4, 2017 |     0|\n",
      "|Italian woman jai...|COPENHAGEN (Reute...|      worldnews|December 15, 2017 |     0|\n",
      "| Bette Midler Goe...|Once again, Bette...|           News| February 25, 2016|     1|\n",
      "|THE ‘IN YOUR FACE...|Yes, that s Justi...|Government News|      Jun 27, 2015|     1|\n",
      "|THIS IS RICH! COM...|New York Mayor Bi...|Government News|      Apr 29, 2015|     1|\n",
      "+--------------------+--------------------+---------------+------------------+------+\n",
      "only showing top 10 rows\n",
      "\n"
     ]
    }
   ],
   "source": [
    "data = shuffle_rows(data)\n",
    "data.show(10)"
   ]
  },
  {
   "cell_type": "markdown",
   "metadata": {},
   "source": [
    "# Drop columns"
   ]
  },
  {
   "cell_type": "code",
   "execution_count": 13,
   "metadata": {},
   "outputs": [
    {
     "name": "stdout",
     "output_type": "stream",
     "text": [
      "+--------------------+------------+------+\n",
      "|                text|     subject|target|\n",
      "+--------------------+------------+------+\n",
      "|NEW YORK (Reuters...|politicsNews|     0|\n",
      "|                    |    politics|     1|\n",
      "+--------------------+------------+------+\n",
      "only showing top 2 rows\n",
      "\n"
     ]
    }
   ],
   "source": [
    "columns_to_drop = [\"date\", \"title\"]\n",
    "data = data.drop(*columns_to_drop)\n",
    "data.show(2)"
   ]
  },
  {
   "cell_type": "markdown",
   "metadata": {},
   "source": [
    "# Duplicate Rows"
   ]
  },
  {
   "cell_type": "code",
   "execution_count": 14,
   "metadata": {},
   "outputs": [
    {
     "name": "stderr",
     "output_type": "stream",
     "text": [
      "                                                                                \r"
     ]
    },
    {
     "name": "stdout",
     "output_type": "stream",
     "text": [
      "Duplicates 465\n",
      "Total 44899\n"
     ]
    },
    {
     "name": "stderr",
     "output_type": "stream",
     "text": [
      "[Stage 27:================================>                        (9 + 7) / 16]\r"
     ]
    },
    {
     "name": "stdout",
     "output_type": "stream",
     "text": [
      "Distinct 43782\n"
     ]
    },
    {
     "name": "stderr",
     "output_type": "stream",
     "text": [
      "                                                                                \r"
     ]
    }
   ],
   "source": [
    "duplicate_rows = data.groupBy(data.columns).count().filter(\"count > 1\")\n",
    "\n",
    "print(\"Duplicates\", duplicate_rows.count())\n",
    "print(\"Total\", data.count())\n",
    "print(\"Distinct\", data.distinct().count())"
   ]
  },
  {
   "cell_type": "code",
   "execution_count": 15,
   "metadata": {},
   "outputs": [
    {
     "name": "stdout",
     "output_type": "stream",
     "text": [
      "+--------------------+--------------------+------+-----+\n",
      "|                text|             subject|target|count|\n",
      "+--------------------+--------------------+------+-----+\n",
      "|\"#JokeNewsAfter r...| 2017The former M...|     1|    2|\n",
      "|\"Liberal actor an...| 2017Harvey Weins...|     1|    2|\n",
      "|\"President Trump ...| we're not lookin...|     1|    2|\n",
      "|\"Judge Jeanine le...| and?\"\" he says. ...|     1|    2|\n",
      "|\"Local artist Ric...| 2017Later on Twi...|     1|    2|\n",
      "|\"Brigitte Macron ...|\"\"  THIS: pic.twi...|     1|    2|\n",
      "|\" I m a political...|               2017\"|     1|    2|\n",
      "|\"This unbelievabl...|               2016\"|     1|    2|\n",
      "|\"Remember the tim...|     fjs);}(document|     1|    2|\n",
      "|\"Barack Obama has...|        undocumented|     1|    2|\n",
      "+--------------------+--------------------+------+-----+\n",
      "only showing top 10 rows\n",
      "\n"
     ]
    }
   ],
   "source": [
    "duplicate_rows.show(10)"
   ]
  },
  {
   "cell_type": "code",
   "execution_count": 16,
   "metadata": {},
   "outputs": [
    {
     "name": "stderr",
     "output_type": "stream",
     "text": [
      "                                                                                \r"
     ]
    },
    {
     "data": {
      "text/plain": [
       "43782"
      ]
     },
     "execution_count": 16,
     "metadata": {},
     "output_type": "execute_result"
    }
   ],
   "source": [
    "data = data.dropDuplicates()\n",
    "data.count()"
   ]
  },
  {
   "cell_type": "markdown",
   "metadata": {},
   "source": [
    "# Text Transform "
   ]
  },
  {
   "cell_type": "markdown",
   "metadata": {},
   "source": [
    "### 1. Lower Case"
   ]
  },
  {
   "cell_type": "code",
   "execution_count": 17,
   "metadata": {},
   "outputs": [
    {
     "name": "stdout",
     "output_type": "stream",
     "text": [
      "+--------------------+-------+------+\n",
      "|                text|subject|target|\n",
      "+--------------------+-------+------+\n",
      "|president donald ...|   news|     1|\n",
      "|the republican fa...|   news|     1|\n",
      "|there s a lot of ...|   news|     1|\n",
      "|everyone knows wh...|   news|     1|\n",
      "|donald trump took...|   news|     1|\n",
      "+--------------------+-------+------+\n",
      "only showing top 5 rows\n",
      "\n"
     ]
    }
   ],
   "source": [
    "# convert to all lower case\n",
    "data = data.withColumn(\"text\", lower(col(\"text\")))\n",
    "data = data.withColumn(\"subject\", lower(col(\"subject\")))\n",
    "data.show(5)"
   ]
  },
  {
   "cell_type": "markdown",
   "metadata": {},
   "source": [
    "### 2. Remove Special Characters \n",
    "- like ! @"
   ]
  },
  {
   "cell_type": "code",
   "execution_count": 18,
   "metadata": {},
   "outputs": [
    {
     "name": "stdout",
     "output_type": "stream",
     "text": [
      "+--------------------+-------+------+\n",
      "|                text|subject|target|\n",
      "+--------------------+-------+------+\n",
      "|president donald ...|   news|     1|\n",
      "|the republican fa...|   news|     1|\n",
      "|there s a lot of ...|   news|     1|\n",
      "|everyone knows wh...|   news|     1|\n",
      "|donald trump took...|   news|     1|\n",
      "+--------------------+-------+------+\n",
      "only showing top 5 rows\n",
      "\n"
     ]
    }
   ],
   "source": [
    "data = data.withColumn(\"text\", regexp_replace(\"text\", \"[^a-zA-Z0-9\\\\s]\", \"\"))\n",
    "data.show(5)"
   ]
  },
  {
   "cell_type": "markdown",
   "metadata": {},
   "source": [
    "### 3. Remove Stopwords"
   ]
  },
  {
   "cell_type": "code",
   "execution_count": 19,
   "metadata": {},
   "outputs": [
    {
     "name": "stderr",
     "output_type": "stream",
     "text": [
      "[Stage 54:>                                                         (0 + 1) / 1]\r"
     ]
    },
    {
     "name": "stdout",
     "output_type": "stream",
     "text": [
      "+--------------------+------------+------+\n",
      "|                text|     subject|target|\n",
      "+--------------------+------------+------+\n",
      "|disrespectful cry...|   left-news|     1|\n",
      "|reuters us suprem...|politicsnews|     0|\n",
      "|trend tragic gun ...|        news|     1|\n",
      "|message peace uni...|    politics|     1|\n",
      "|jay dyer 21st cen...| middle-east|     1|\n",
      "|man arrested miam...|   left-news|     1|\n",
      "|reince priebus do...|        news|     1|\n",
      "|reuters ailing pu...|politicsnews|     0|\n",
      "|reuters us attorn...|politicsnews|     0|\n",
      "|washington reuter...|politicsnews|     0|\n",
      "+--------------------+------------+------+\n",
      "only showing top 10 rows\n",
      "\n"
     ]
    },
    {
     "name": "stderr",
     "output_type": "stream",
     "text": [
      "[nltk_data] Downloading package stopwords to\n",
      "[nltk_data]     /Users/nimisha/nltk_data...\n",
      "[nltk_data]   Package stopwords is already up-to-date!\n",
      "                                                                                \r"
     ]
    }
   ],
   "source": [
    "remove_stop_words_udf = udf(remove_stop_words, StringType())\n",
    "data = data.withColumn(\"text\", remove_stop_words_udf(\"text\"))\n",
    "data.show(10)"
   ]
  },
  {
   "cell_type": "markdown",
   "metadata": {},
   "source": [
    "### 4. Stemming words"
   ]
  },
  {
   "cell_type": "code",
   "execution_count": 22,
   "metadata": {},
   "outputs": [
    {
     "name": "stderr",
     "output_type": "stream",
     "text": [
      "[Stage 61:>                                                         (0 + 1) / 1]\r"
     ]
    },
    {
     "name": "stdout",
     "output_type": "stream",
     "text": [
      "+--------------------+------------+------+\n",
      "|                text|     subject|target|\n",
      "+--------------------+------------+------+\n",
      "|disrespect crybab...|   left-news|     1|\n",
      "|reuter us suprem ...|politicsnews|     0|\n",
      "|trend tragic gun ...|        news|     1|\n",
      "|messag peac uniti...|    politics|     1|\n",
      "|jay dyer 21st cen...| middle-east|     1|\n",
      "+--------------------+------------+------+\n",
      "only showing top 5 rows\n",
      "\n"
     ]
    },
    {
     "name": "stderr",
     "output_type": "stream",
     "text": [
      "[nltk_data] Downloading package stopwords to\n",
      "[nltk_data]     /Users/nimisha/nltk_data...\n",
      "[nltk_data]   Package stopwords is already up-to-date!\n",
      "                                                                                \r"
     ]
    }
   ],
   "source": [
    "stem_words_udf = udf(stem_words, StringType())\n",
    "data = data.withColumn(\"text\", stem_words_udf(\"text\"))\n",
    "data.show(5)"
   ]
  },
  {
   "cell_type": "code",
   "execution_count": null,
   "metadata": {},
   "outputs": [],
   "source": []
  }
 ],
 "metadata": {
  "kernelspec": {
   "display_name": "venv",
   "language": "python",
   "name": "python3"
  },
  "language_info": {
   "codemirror_mode": {
    "name": "ipython",
    "version": 3
   },
   "file_extension": ".py",
   "mimetype": "text/x-python",
   "name": "python",
   "nbconvert_exporter": "python",
   "pygments_lexer": "ipython3",
   "version": "3.12.0"
  }
 },
 "nbformat": 4,
 "nbformat_minor": 2
}
