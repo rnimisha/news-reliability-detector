{
 "cells": [
  {
   "cell_type": "code",
   "execution_count": 24,
   "metadata": {},
   "outputs": [],
   "source": [
    "import os\n",
    "\n",
    "project_root = \"/Users/nimisha/Desktop/learning/news-reliability-detector/\"\n",
    "os.chdir(project_root)"
   ]
  },
  {
   "cell_type": "code",
   "execution_count": 25,
   "metadata": {},
   "outputs": [],
   "source": [
    "from pyspark.sql import SparkSession\n",
    "from pyspark.sql.functions import col, lower, regexp_replace\n",
    "\n",
    "# local modules\n",
    "from src.load.load_data import load\n",
    "from src.preprocessing.preprocessing import (\n",
    "    print_null_rows,\n",
    "    drop_missing_text_rows,\n",
    "    shuffle_rows,\n",
    ")"
   ]
  },
  {
   "cell_type": "code",
   "execution_count": 26,
   "metadata": {},
   "outputs": [],
   "source": [
    "spark = SparkSession.builder.appName(\"NewsReliability\").getOrCreate()"
   ]
  },
  {
   "cell_type": "code",
   "execution_count": 27,
   "metadata": {},
   "outputs": [],
   "source": [
    "data = load(spark)"
   ]
  },
  {
   "cell_type": "code",
   "execution_count": 28,
   "metadata": {},
   "outputs": [
    {
     "name": "stdout",
     "output_type": "stream",
     "text": [
      "+--------------------+--------------------+-------+-----------------+------+\n",
      "|               title|                text|subject|             date|target|\n",
      "+--------------------+--------------------+-------+-----------------+------+\n",
      "| Donald Trump Sen...|Donald Trump just...|   News|December 31, 2017|     1|\n",
      "| Drunk Bragging T...|House Intelligenc...|   News|December 31, 2017|     1|\n",
      "| Sheriff David Cl...|On Friday, it was...|   News|December 30, 2017|     1|\n",
      "| Trump Is So Obse...|On Christmas day,...|   News|December 29, 2017|     1|\n",
      "| Pope Francis Jus...|Pope Francis used...|   News|December 25, 2017|     1|\n",
      "| Racist Alabama C...|The number of cas...|   News|December 25, 2017|     1|\n",
      "| Fresh Off The Go...|Donald Trump spen...|   News|December 23, 2017|     1|\n",
      "| Trump Said Some ...|In the wake of ye...|   News|December 23, 2017|     1|\n",
      "| Former CIA Direc...|Many people have ...|   News|December 22, 2017|     1|\n",
      "| WATCH: Brand-New...|Just when you mig...|   News|December 21, 2017|     1|\n",
      "+--------------------+--------------------+-------+-----------------+------+\n",
      "only showing top 10 rows\n",
      "\n"
     ]
    }
   ],
   "source": [
    "data.show(10)"
   ]
  },
  {
   "cell_type": "code",
   "execution_count": 29,
   "metadata": {},
   "outputs": [
    {
     "name": "stdout",
     "output_type": "stream",
     "text": [
      "root\n",
      " |-- title: string (nullable = true)\n",
      " |-- text: string (nullable = true)\n",
      " |-- subject: string (nullable = true)\n",
      " |-- date: string (nullable = true)\n",
      " |-- target: integer (nullable = false)\n",
      "\n"
     ]
    }
   ],
   "source": [
    "data.printSchema()"
   ]
  },
  {
   "cell_type": "markdown",
   "metadata": {},
   "source": [
    "# Handling Missing Values"
   ]
  },
  {
   "cell_type": "code",
   "execution_count": 30,
   "metadata": {},
   "outputs": [
    {
     "name": "stdout",
     "output_type": "stream",
     "text": [
      "+-----+----+-------+----+------+\n",
      "|title|text|subject|date|target|\n",
      "+-----+----+-------+----+------+\n",
      "|    0|   8|      8|   8|     0|\n",
      "+-----+----+-------+----+------+\n",
      "\n"
     ]
    },
    {
     "name": "stderr",
     "output_type": "stream",
     "text": [
      "                                                                                \r"
     ]
    }
   ],
   "source": [
    "print_null_rows(data)"
   ]
  },
  {
   "cell_type": "code",
   "execution_count": 31,
   "metadata": {},
   "outputs": [
    {
     "name": "stdout",
     "output_type": "stream",
     "text": [
      "+--------------------+----+-------+----+------+\n",
      "|               title|text|subject|date|target|\n",
      "+--------------------+----+-------+----+------+\n",
      "|                   \"|NULL|   NULL|NULL|     1|\n",
      "|Ex-GOP Congressma...|NULL|   NULL|NULL|     1|\n",
      "|                   \"|NULL|   NULL|NULL|     1|\n",
      "|WATCH: Democratic...|NULL|   NULL|NULL|     1|\n",
      "|                   \"|NULL|   NULL|NULL|     1|\n",
      "|Trump Gets STOMPE...|NULL|   NULL|NULL|     1|\n",
      "|                   \"|NULL|   NULL|NULL|     1|\n",
      "|Donald Trump Gets...|NULL|   NULL|NULL|     1|\n",
      "+--------------------+----+-------+----+------+\n",
      "\n"
     ]
    }
   ],
   "source": [
    "data.filter(data.text.isNull()).show()"
   ]
  },
  {
   "cell_type": "code",
   "execution_count": 32,
   "metadata": {},
   "outputs": [],
   "source": [
    "data = drop_missing_text_rows(data)"
   ]
  },
  {
   "cell_type": "code",
   "execution_count": 33,
   "metadata": {},
   "outputs": [
    {
     "name": "stdout",
     "output_type": "stream",
     "text": [
      "+-----+----+-------+----+------+\n",
      "|title|text|subject|date|target|\n",
      "+-----+----+-------+----+------+\n",
      "+-----+----+-------+----+------+\n",
      "\n"
     ]
    }
   ],
   "source": [
    "data.filter(data.text.isNull()).show()"
   ]
  },
  {
   "cell_type": "code",
   "execution_count": 34,
   "metadata": {},
   "outputs": [
    {
     "name": "stdout",
     "output_type": "stream",
     "text": [
      "+-----+----+-------+----+------+\n",
      "|title|text|subject|date|target|\n",
      "+-----+----+-------+----+------+\n",
      "|    0|   0|      0|   0|     0|\n",
      "+-----+----+-------+----+------+\n",
      "\n"
     ]
    }
   ],
   "source": [
    "print_null_rows(data)"
   ]
  },
  {
   "cell_type": "markdown",
   "metadata": {},
   "source": [
    "# Randomize the order of data rows"
   ]
  },
  {
   "cell_type": "code",
   "execution_count": 35,
   "metadata": {},
   "outputs": [
    {
     "name": "stdout",
     "output_type": "stream",
     "text": [
      "+--------------------+--------------------+------------+-------------------+------+\n",
      "|               title|                text|     subject|               date|target|\n",
      "+--------------------+--------------------+------------+-------------------+------+\n",
      "|U.S. tax debate e...|WASHINGTON (Reute...|politicsNews|  December 1, 2017 |     0|\n",
      "|OOPS! VIDEO Shows...|In spite of Senat...|   left-news|       Jul 28, 2017|     1|\n",
      "|Clinton's lead ov...|NEW YORK (Reuters...|politicsNews|    August 5, 2016 |     0|\n",
      "|White House will ...|WASHINGTON (Reute...|politicsNews|      May 16, 2017 |     0|\n",
      "|Venezuelans face ...|PUERTO ORDAZ, Ven...|   worldnews|September 21, 2017 |     0|\n",
      "|Clinton says 'con...|(Reuters) - Hilla...|politicsNews| September 5, 2016 |     0|\n",
      "|U.S. Senate Passe...|21st Century Wire...| Middle-east|     March 18, 2016|     1|\n",
      "|GAME ON! UC Berke...|THE BIRTHPLACE OF...|    politics|       Apr 19, 2017|     1|\n",
      "|Mexico urges resp...|(Reuters) - U.S. ...|politicsNews|     April 6, 2017 |     0|\n",
      "|Senator Collins s...|WASHINGTON (Reute...|politicsNews| November 30, 2017 |     0|\n",
      "+--------------------+--------------------+------------+-------------------+------+\n",
      "only showing top 10 rows\n",
      "\n"
     ]
    }
   ],
   "source": [
    "data = shuffle_rows(data)\n",
    "data.show(10)"
   ]
  },
  {
   "cell_type": "markdown",
   "metadata": {},
   "source": [
    "# Drop columns"
   ]
  },
  {
   "cell_type": "code",
   "execution_count": 36,
   "metadata": {},
   "outputs": [
    {
     "name": "stdout",
     "output_type": "stream",
     "text": [
      "+--------------------+------------+------+\n",
      "|                text|     subject|target|\n",
      "+--------------------+------------+------+\n",
      "|WASHINGTON (Reute...|politicsNews|     0|\n",
      "|In spite of Senat...|   left-news|     1|\n",
      "+--------------------+------------+------+\n",
      "only showing top 2 rows\n",
      "\n"
     ]
    }
   ],
   "source": [
    "columns_to_drop = [\"date\", \"title\"]\n",
    "data = data.drop(*columns_to_drop)\n",
    "data.show(2)"
   ]
  },
  {
   "cell_type": "markdown",
   "metadata": {},
   "source": [
    "# Duplicate Rows"
   ]
  },
  {
   "cell_type": "code",
   "execution_count": 37,
   "metadata": {},
   "outputs": [
    {
     "name": "stderr",
     "output_type": "stream",
     "text": [
      "                                                                                \r"
     ]
    },
    {
     "name": "stdout",
     "output_type": "stream",
     "text": [
      "Duplicates 465\n",
      "Total 44899\n",
      "Distinct 43782\n"
     ]
    }
   ],
   "source": [
    "duplicate_rows = data.groupBy(data.columns).count().filter(\"count > 1\")\n",
    "\n",
    "print(\"Duplicates\", duplicate_rows.count())\n",
    "print(\"Total\", data.count())\n",
    "print(\"Distinct\", data.distinct().count())"
   ]
  },
  {
   "cell_type": "code",
   "execution_count": 38,
   "metadata": {},
   "outputs": [
    {
     "name": "stdout",
     "output_type": "stream",
     "text": [
      "+--------------------+--------------------+------+-----+\n",
      "|                text|             subject|target|count|\n",
      "+--------------------+--------------------+------+-----+\n",
      "|\"#JokeNewsAfter r...| 2017The former M...|     1|    2|\n",
      "|\"Liberal actor an...| 2017Harvey Weins...|     1|    2|\n",
      "|\"President Trump ...| we're not lookin...|     1|    2|\n",
      "|\"Judge Jeanine le...| and?\"\" he says. ...|     1|    2|\n",
      "|\"Local artist Ric...| 2017Later on Twi...|     1|    2|\n",
      "|\"Brigitte Macron ...|\"\"  THIS: pic.twi...|     1|    2|\n",
      "|\" I m a political...|               2017\"|     1|    2|\n",
      "|\"This unbelievabl...|               2016\"|     1|    2|\n",
      "|\"Remember the tim...|     fjs);}(document|     1|    2|\n",
      "|\"Barack Obama has...|        undocumented|     1|    2|\n",
      "+--------------------+--------------------+------+-----+\n",
      "only showing top 10 rows\n",
      "\n"
     ]
    },
    {
     "name": "stderr",
     "output_type": "stream",
     "text": [
      "                                                                                \r"
     ]
    }
   ],
   "source": [
    "duplicate_rows.show(10)"
   ]
  },
  {
   "cell_type": "code",
   "execution_count": 39,
   "metadata": {},
   "outputs": [
    {
     "data": {
      "text/plain": [
       "43782"
      ]
     },
     "execution_count": 39,
     "metadata": {},
     "output_type": "execute_result"
    }
   ],
   "source": [
    "data = data.dropDuplicates()\n",
    "data.count()"
   ]
  },
  {
   "cell_type": "markdown",
   "metadata": {},
   "source": [
    "# Text Transform "
   ]
  },
  {
   "cell_type": "markdown",
   "metadata": {},
   "source": [
    "### 1. Lower Case"
   ]
  },
  {
   "cell_type": "code",
   "execution_count": 40,
   "metadata": {},
   "outputs": [
    {
     "name": "stdout",
     "output_type": "stream",
     "text": [
      "+--------------------+-------+------+\n",
      "|                text|subject|target|\n",
      "+--------------------+-------+------+\n",
      "|president donald ...|   news|     1|\n",
      "|the republican fa...|   news|     1|\n",
      "|there s a lot of ...|   news|     1|\n",
      "|everyone knows wh...|   news|     1|\n",
      "|donald trump took...|   news|     1|\n",
      "+--------------------+-------+------+\n",
      "only showing top 5 rows\n",
      "\n"
     ]
    }
   ],
   "source": [
    "# convert to all lower case\n",
    "data = data.withColumn(\"text\", lower(col(\"text\")))\n",
    "data = data.withColumn(\"subject\", lower(col(\"subject\")))\n",
    "data.show(5)"
   ]
  },
  {
   "cell_type": "markdown",
   "metadata": {},
   "source": [
    "### 2. Remove Special Characters \n",
    "- like ! @"
   ]
  },
  {
   "cell_type": "code",
   "execution_count": null,
   "metadata": {},
   "outputs": [
    {
     "name": "stderr",
     "output_type": "stream",
     "text": [
      "[Stage 99:================================>                        (9 + 7) / 16]\r"
     ]
    },
    {
     "name": "stdout",
     "output_type": "stream",
     "text": [
      "+--------------------+-------+------+\n",
      "|                text|subject|target|\n",
      "+--------------------+-------+------+\n",
      "|president donald ...|   news|     1|\n",
      "|the republican fa...|   news|     1|\n",
      "|there s a lot of ...|   news|     1|\n",
      "|everyone knows wh...|   news|     1|\n",
      "|donald trump took...|   news|     1|\n",
      "+--------------------+-------+------+\n",
      "only showing top 5 rows\n",
      "\n"
     ]
    },
    {
     "name": "stderr",
     "output_type": "stream",
     "text": [
      "                                                                                \r"
     ]
    }
   ],
   "source": [
    "data = data.withColumn(\"text\", regexp_replace(\"text\", \"[^a-zA-Z0-9\\\\s]\", \"\"))\n",
    "data.show(5)"
   ]
  },
  {
   "cell_type": "markdown",
   "metadata": {},
   "source": []
  },
  {
   "cell_type": "code",
   "execution_count": null,
   "metadata": {},
   "outputs": [],
   "source": []
  }
 ],
 "metadata": {
  "kernelspec": {
   "display_name": "venv",
   "language": "python",
   "name": "python3"
  },
  "language_info": {
   "codemirror_mode": {
    "name": "ipython",
    "version": 3
   },
   "file_extension": ".py",
   "mimetype": "text/x-python",
   "name": "python",
   "nbconvert_exporter": "python",
   "pygments_lexer": "ipython3",
   "version": "3.12.0"
  }
 },
 "nbformat": 4,
 "nbformat_minor": 2
}
