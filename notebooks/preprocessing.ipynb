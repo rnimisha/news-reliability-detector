{
 "cells": [
  {
   "cell_type": "code",
   "execution_count": 35,
   "metadata": {},
   "outputs": [],
   "source": [
    "import os\n",
    "\n",
    "project_root = \"/Users/nimisha/Desktop/learning/news-reliability-detector/\"\n",
    "os.chdir(project_root)"
   ]
  },
  {
   "cell_type": "code",
   "execution_count": 36,
   "metadata": {},
   "outputs": [],
   "source": [
    "from pyspark.sql import SparkSession\n",
    "from pyspark.sql.functions import col, lower, regexp_replace, udf, concat\n",
    "from pyspark.sql.types import StringType\n",
    "from pyspark.ml.feature import HashingTF, IDF, Tokenizer\n",
    "\n",
    "# local modules\n",
    "from src.load.load_data import load\n",
    "from src.preprocessing.preprocessing import (\n",
    "    print_null_rows,\n",
    "    drop_missing_text_rows,\n",
    "    shuffle_rows,\n",
    "    remove_stop_words,\n",
    "    stem_words\n",
    ")"
   ]
  },
  {
   "cell_type": "code",
   "execution_count": 37,
   "metadata": {},
   "outputs": [],
   "source": [
    "spark = SparkSession.builder.appName(\"NewsReliability\").getOrCreate()"
   ]
  },
  {
   "cell_type": "code",
   "execution_count": 38,
   "metadata": {},
   "outputs": [],
   "source": [
    "data = load(spark)"
   ]
  },
  {
   "cell_type": "code",
   "execution_count": 39,
   "metadata": {},
   "outputs": [
    {
     "name": "stdout",
     "output_type": "stream",
     "text": [
      "+--------------------+--------------------+-------+-----------------+------+\n",
      "|               title|                text|subject|             date|target|\n",
      "+--------------------+--------------------+-------+-----------------+------+\n",
      "| Donald Trump Sen...|Donald Trump just...|   News|December 31, 2017|     1|\n",
      "| Drunk Bragging T...|House Intelligenc...|   News|December 31, 2017|     1|\n",
      "| Sheriff David Cl...|On Friday, it was...|   News|December 30, 2017|     1|\n",
      "| Trump Is So Obse...|On Christmas day,...|   News|December 29, 2017|     1|\n",
      "| Pope Francis Jus...|Pope Francis used...|   News|December 25, 2017|     1|\n",
      "| Racist Alabama C...|The number of cas...|   News|December 25, 2017|     1|\n",
      "| Fresh Off The Go...|Donald Trump spen...|   News|December 23, 2017|     1|\n",
      "| Trump Said Some ...|In the wake of ye...|   News|December 23, 2017|     1|\n",
      "| Former CIA Direc...|Many people have ...|   News|December 22, 2017|     1|\n",
      "| WATCH: Brand-New...|Just when you mig...|   News|December 21, 2017|     1|\n",
      "+--------------------+--------------------+-------+-----------------+------+\n",
      "only showing top 10 rows\n",
      "\n"
     ]
    }
   ],
   "source": [
    "data.show(10)"
   ]
  },
  {
   "cell_type": "code",
   "execution_count": 40,
   "metadata": {},
   "outputs": [
    {
     "name": "stdout",
     "output_type": "stream",
     "text": [
      "root\n",
      " |-- title: string (nullable = true)\n",
      " |-- text: string (nullable = true)\n",
      " |-- subject: string (nullable = true)\n",
      " |-- date: string (nullable = true)\n",
      " |-- target: integer (nullable = false)\n",
      "\n"
     ]
    }
   ],
   "source": [
    "data.printSchema()"
   ]
  },
  {
   "cell_type": "markdown",
   "metadata": {},
   "source": [
    "# Handling Missing Values"
   ]
  },
  {
   "cell_type": "code",
   "execution_count": 41,
   "metadata": {},
   "outputs": [
    {
     "name": "stdout",
     "output_type": "stream",
     "text": [
      "+-----+----+-------+----+------+\n",
      "|title|text|subject|date|target|\n",
      "+-----+----+-------+----+------+\n",
      "|    0|   8|      8|   8|     0|\n",
      "+-----+----+-------+----+------+\n",
      "\n"
     ]
    }
   ],
   "source": [
    "print_null_rows(data)"
   ]
  },
  {
   "cell_type": "code",
   "execution_count": 42,
   "metadata": {},
   "outputs": [
    {
     "name": "stdout",
     "output_type": "stream",
     "text": [
      "+--------------------+----+-------+----+------+\n",
      "|               title|text|subject|date|target|\n",
      "+--------------------+----+-------+----+------+\n",
      "|                   \"|NULL|   NULL|NULL|     1|\n",
      "|Ex-GOP Congressma...|NULL|   NULL|NULL|     1|\n",
      "|                   \"|NULL|   NULL|NULL|     1|\n",
      "|WATCH: Democratic...|NULL|   NULL|NULL|     1|\n",
      "|                   \"|NULL|   NULL|NULL|     1|\n",
      "|Trump Gets STOMPE...|NULL|   NULL|NULL|     1|\n",
      "|                   \"|NULL|   NULL|NULL|     1|\n",
      "|Donald Trump Gets...|NULL|   NULL|NULL|     1|\n",
      "+--------------------+----+-------+----+------+\n",
      "\n"
     ]
    }
   ],
   "source": [
    "data.filter(data.text.isNull()).show()"
   ]
  },
  {
   "cell_type": "code",
   "execution_count": 43,
   "metadata": {},
   "outputs": [],
   "source": [
    "data = drop_missing_text_rows(data)"
   ]
  },
  {
   "cell_type": "code",
   "execution_count": 44,
   "metadata": {},
   "outputs": [
    {
     "name": "stdout",
     "output_type": "stream",
     "text": [
      "+-----+----+-------+----+------+\n",
      "|title|text|subject|date|target|\n",
      "+-----+----+-------+----+------+\n",
      "+-----+----+-------+----+------+\n",
      "\n"
     ]
    }
   ],
   "source": [
    "data.filter(data.text.isNull()).show()"
   ]
  },
  {
   "cell_type": "code",
   "execution_count": 45,
   "metadata": {},
   "outputs": [
    {
     "name": "stdout",
     "output_type": "stream",
     "text": [
      "+-----+----+-------+----+------+\n",
      "|title|text|subject|date|target|\n",
      "+-----+----+-------+----+------+\n",
      "|    0|   0|      0|   0|     0|\n",
      "+-----+----+-------+----+------+\n",
      "\n"
     ]
    }
   ],
   "source": [
    "print_null_rows(data)"
   ]
  },
  {
   "cell_type": "markdown",
   "metadata": {},
   "source": [
    "# Randomize the order of data rows"
   ]
  },
  {
   "cell_type": "code",
   "execution_count": 46,
   "metadata": {},
   "outputs": [
    {
     "name": "stdout",
     "output_type": "stream",
     "text": [
      "+--------------------+--------------------+------------+-------------------+------+\n",
      "|               title|                text|     subject|               date|target|\n",
      "+--------------------+--------------------+------------+-------------------+------+\n",
      "|Senate bill would...|CHICAGO (Reuters)...|politicsNews|September 27, 2016 |     0|\n",
      "|German minister u...|BERLIN (Reuters) ...|   worldnews|  October 14, 2017 |     0|\n",
      "| Trump Laughably ...|Donald Trump is n...|        News|    January 1, 2017|     1|\n",
      "|Pope Francis plan...|ROME (Reuters) - ...|   worldnews| September 6, 2017 |     0|\n",
      "|Trump says popula...|WASHINGTON (Reute...|politicsNews|  October 23, 2017 |     0|\n",
      "|U.S. House Republ...|WASHINGTON (Reute...|politicsNews|   January 3, 2017 |     0|\n",
      "|There’s Something...|21st Century Wire...| Middle-east|     March 21, 2016|     1|\n",
      "| John McCain’s Op...|This is why John ...|        News|      June 18, 2016|     1|\n",
      "|Swiss ready to me...|BERNE (Reuters) -...|   worldnews| September 4, 2017 |     0|\n",
      "|Powerful Mexico f...|MEXICO CITY (Reut...|   worldnews| December 15, 2017 |     0|\n",
      "+--------------------+--------------------+------------+-------------------+------+\n",
      "only showing top 10 rows\n",
      "\n"
     ]
    }
   ],
   "source": [
    "data = shuffle_rows(data)\n",
    "data.show(10)"
   ]
  },
  {
   "cell_type": "markdown",
   "metadata": {},
   "source": [
    "## Feature Creating"
   ]
  },
  {
   "cell_type": "code",
   "execution_count": 47,
   "metadata": {},
   "outputs": [
    {
     "name": "stdout",
     "output_type": "stream",
     "text": [
      "+--------------------+--------------------+------------+-------------------+------+--------------------+\n",
      "|               title|                text|     subject|               date|target|             content|\n",
      "+--------------------+--------------------+------------+-------------------+------+--------------------+\n",
      "|Senate bill would...|CHICAGO (Reuters)...|politicsNews|September 27, 2016 |     0|Senate bill would...|\n",
      "|German minister u...|BERLIN (Reuters) ...|   worldnews|  October 14, 2017 |     0|German minister u...|\n",
      "| Trump Laughably ...|Donald Trump is n...|        News|    January 1, 2017|     1| Trump Laughably ...|\n",
      "+--------------------+--------------------+------------+-------------------+------+--------------------+\n",
      "only showing top 3 rows\n",
      "\n"
     ]
    }
   ],
   "source": [
    "# combine title and text column to make news content\n",
    "data = data.withColumn('content', concat(data['title'], data['text']))\n",
    "data.show(3)"
   ]
  },
  {
   "cell_type": "code",
   "execution_count": 48,
   "metadata": {},
   "outputs": [
    {
     "name": "stdout",
     "output_type": "stream",
     "text": [
      "+-----------------------------------------------------------------------------------------------------------------------------------------------------------------------------------------------------------------------------------------------------------------------------------------------------------------------------------------------------------------------------------------------------------------------------------------------------------------------------------------------------------------------------------------------------------------------------------------------------------------------------------------------------------------------------------------------------------------------------------------------------------------------------------------------------------------------------------------------------------------------------------------------------------------------------------------------------------------------------------------------------------------------------------------------------------------------------------------------------------------------------------------------------------------------------------------------------------------------------------------------------------------------------------------------------------------------------------------------------------------------------------------------------------------------------------------------------------------------------------------------------------------------------------------------------------------------------------------------------------------------------------------------------------------------------------------------------------------------------------------------------------------------------------------------------------------------------------------------------------------------------------------------------------------------------------------------------------------------------------------------------------------------------------------------------------------------------------------------------------------------------------------------------------------------------------------------------------------------------------------------------------------------------------------------------------------------------------------------------------------------------------------------------------------------------------------------------------------------------------------------------------------------------------------------------------------------------------------------------------------------------------------------------------------------------------------------------------------------------------------------------------------------------------------------------------------------------------------------------------------------------------------------------------------------------------------------------------------------------------------------------------------------------------------------------------------------------------------------------------------------------------------------------------------------------------------------------------------------------------------------------------------------------------------------------------------------------------------------------------------------------------------------------------------------------------------------------------------------------------------------------------------------------------------------------------------------------------------------------------------------------------------------------------------------------------------------------------------------------------------------------------------------------------------------------------------------------------------------------------------------------------------------------------------------------------------------------------------------------------------------------------------------------------------------------------------------------------------------------------------------------------------------------------------------------------------------------------------------------------------------------------------------------------------------------------------------------------------------------------------------------------------------------------------------------------------------------------------------------------------------------------------------------------------------------------------------------------------------------------------------------------------------------------------------------------------------------------------------------------------------------------------------------------------------------------------------------------------------------------------------------------------------------------------------------------------------------------------------------------------------------------------------------------------------------------------------------------------------------------------------------------------------------------------------------------------------------------------------------------------------------------------------------------------------+\n",
      "|content                                                                                                                                                                                                                                                                                                                                                                                                                                                                                                                                                                                                                                                                                                                                                                                                                                                                                                                                                                                                                                                                                                                                                                                                                                                                                                                                                                                                                                                                                                                                                                                                                                                                                                                                                                                                                                                                                                                                                                                                                                                                                                                                                                                                                                                                                                                                                                                                                                                                                                                                                                                                                                                                                                                                                                                                                                                                                                                                                                                                                                                                                                                                                                                                                                                                                                                                                                                                                                                                                                                                                                                                                                                                                                                                                                                                                                                                                                                                                                                                                                                                                                                                                                                                                                                                                                                                                                                                                                                                                                                                                                                                                                                                                                                                                                                                                                                                                                                                                                                                                                                                                                                                                                                                                                                                                        |\n",
      "+-----------------------------------------------------------------------------------------------------------------------------------------------------------------------------------------------------------------------------------------------------------------------------------------------------------------------------------------------------------------------------------------------------------------------------------------------------------------------------------------------------------------------------------------------------------------------------------------------------------------------------------------------------------------------------------------------------------------------------------------------------------------------------------------------------------------------------------------------------------------------------------------------------------------------------------------------------------------------------------------------------------------------------------------------------------------------------------------------------------------------------------------------------------------------------------------------------------------------------------------------------------------------------------------------------------------------------------------------------------------------------------------------------------------------------------------------------------------------------------------------------------------------------------------------------------------------------------------------------------------------------------------------------------------------------------------------------------------------------------------------------------------------------------------------------------------------------------------------------------------------------------------------------------------------------------------------------------------------------------------------------------------------------------------------------------------------------------------------------------------------------------------------------------------------------------------------------------------------------------------------------------------------------------------------------------------------------------------------------------------------------------------------------------------------------------------------------------------------------------------------------------------------------------------------------------------------------------------------------------------------------------------------------------------------------------------------------------------------------------------------------------------------------------------------------------------------------------------------------------------------------------------------------------------------------------------------------------------------------------------------------------------------------------------------------------------------------------------------------------------------------------------------------------------------------------------------------------------------------------------------------------------------------------------------------------------------------------------------------------------------------------------------------------------------------------------------------------------------------------------------------------------------------------------------------------------------------------------------------------------------------------------------------------------------------------------------------------------------------------------------------------------------------------------------------------------------------------------------------------------------------------------------------------------------------------------------------------------------------------------------------------------------------------------------------------------------------------------------------------------------------------------------------------------------------------------------------------------------------------------------------------------------------------------------------------------------------------------------------------------------------------------------------------------------------------------------------------------------------------------------------------------------------------------------------------------------------------------------------------------------------------------------------------------------------------------------------------------------------------------------------------------------------------------------------------------------------------------------------------------------------------------------------------------------------------------------------------------------------------------------------------------------------------------------------------------------------------------------------------------------------------------------------------------------------------------------------------------------------------------------------------------------------------------------+\n",
      "|Senate bill would count munis toward bank liquidityCHICAGO (Reuters) - Bonds sold by U.S. states, cities, schools and other issuers in the municipal market could be held as liquid assets by banks under legislation introduced on Tuesday in the U.S. Senate, bolstering the case for purchasing the debt while helping financial institutions weather market crises. The bipartisan measure would classify high-quality municipal bonds at the same level as corporate debt, allowing banks to use munis to comply with new 30-day federal liquidity requirements. Federal rules approved in 2014 and effective next year are aimed at ensuring big banks will be able to access sufficient cash during a financial crisis. But the rules excluded muni bonds from the types of securities that count as high quality liquid assets, or HQLAs.  Muni debt issuers fear the exclusion would deter banks from buying muni debt, hurting their ability to fund everything from schools and bridges to water treatment plants and hospitals. “If banks retreat from the muni-bond market, it could choke off a critical source of investment on which our cities and localities rely. This bill protects the stability of our markets while providing continued access to muni bonds for local governments,” Senator Chuck Schumer, a New York Democrat, said in a statement.   Schumer, along with Senators Mark Warner, a Virginia Democrat, and Mike Rounds, a South Dakota Republican, led a group sponsoring the legislation. Putting munis on par with corporate debt “would be acceptable,” according to Washington State Treasurer James McIntire, president of the National Association of State Treasurers (NAST), which has been pushing for the inclusion of munis under the rules.  A House bill would also allow banks to count munis toward banks’ liquidity but at a higher face value, 85 percent, versus 50 percent in the Senate bill, according to NAST.                                                                                                                                                                                                                                                                                                                                                                                                                                                                                                                                                                                                                                                                                                                                                                                                                                                                                                                                                                                                                                                                                                                                                                                                                                                                                                                                                                                                                                                                                                                                                                                                                                                                                                                                                                                                                                                                                                                                                                                                                                                                                                                                                                                                                                                                                                                                                                                                                                                                                                                                                                                                                                                                                                                                                                                                                                                                                                                                                                                                                                                                                                                                                                                                                                                                                                                    |\n",
      "|German minister upsets fellow conservatives over Muslim holidaysBERLIN (Reuters) - German Interior Minister Thomas de Maiziere has upset fellow members of Chancellor Angela Merkel s conservative bloc by proposing that Germany introduce Muslim public holidays. Germany is home to around 4.5 million Muslims, many of whom have a Turkish background. Many of the more than a million migrants who have arrived in the country from the Middle East and elsewhere over the last two years are also Muslims. Speaking on the campaign trail ahead of an election in the northern state of Lower Saxony due on Sunday, de Maiziere - a member of Merkel s Christian Democrats (CDU) - said he was open to certain regions of Germany having Muslim public holidays. He pointed out that All Saints  Day was only a public holiday in Germany s Catholic regions and added:  In places where there are many Muslims, why can t we think about introducing a Muslim public holiday?  In a speech posted in an audio clip on local news website regionalwolfsburg.de he also said Germany s public holidays were generally Christian, and should remain that way. His proposal prompted a backlash from fellow conservatives, who are due to start tricky three-way coalition talks with the liberal Free Democrats (FDP) and the Greens next week. The conservatives won a September election but suffered their worst result since 1949 as they lost support to the far-right. Senior CDU member Wolfgang Bosbach told the newspaper Bild that everyone in Germany could celebrate whatever religious festivals they wanted but added:  Whether the state should also protect non-Christian holidays with legal regulation in future is a different issue entirely.  Alexander Dobrindt, a senior figure in the Christian Social Union (CSU) - the Bavarian sister party of Merkel s CDU - told the same newspaper that Germany s Christian heritage was non-negotiable, adding:  We won t consider introducing Muslim public holidays in Germany.  A spokeswoman for the Interior Ministry said de Maiziere remained of the view that Germany s public holidays were of a Christian nature  and don t have any other roots . The constitution sets out that Germany s individual states decide on religious public holidays so the federal interior minister has no influence on whether there should be Muslim public holidays, the spokeswoman added. She said the northern city states of Hamburg and Bremen had signed agreements with some Muslim organizations so that Muslim pupils could have such time off school and workers could take holidays for festivals important to Islam, adding that some other states did the same.                                                                                                                                                                                                                                                                                                                                                                                                                                                                                                                                                                                                                                                                                                                                                                                                                                                                                                                                                                                                                                                                                                                                                                                                                                                                                                                                                                                                                                                                                                                                                                                                                                                                                                                                                                                                                                                                                                                                                                                                                                                                                                                                                                                                                                                                                                                                                                                                                                                                                                                                                    |\n",
      "| Trump Laughably Claims He Knows More About Cyber Attacks Than The CIADonald Trump is now saying that he knows more about computer hacking than the experts at the CIA and our other intelligence agencies.During an interview with the New York Times prior to a New Year s Eve party at Mar-a-Lago, Trump once again defended Russia and Putin by questioning the validity of an assessment by the intelligence community concluding that Russia meddled with our political process. I just want them to be sure because it s a pretty serious charge,  Trump said before invoking the lack of weapons of mass destruction in Iraq.  If you look at the weapons of mass destruction, that was a disaster, and they were wrong. So I want them to be sure. I think it s unfair if they don t know. But that s not exactly true. Former CIA official Tyler Drumheller said in 2006 that the Bush Administration ignored intelligence concluding that Iraq did NOT have weapons of mass destruction. When presented with the assessment, Bush and his team refused to believe it and went to war in Iraq anyway.So when Trump blames the intelligence community for getting WMDs in Iraq wrong, it s inaccurate. They actually got it right. Bush was the one who was wrong by ignoring them.Trump didn t stop there, however. Just like when he claimed to know more about ISIS than our generals, Trump claimed to know more about hacking than the experts at our intelligence agencies. And I know a lot about hacking,  Trup continued.  And hacking is a very hard thing to prove. So it could be somebody else. And I also know things that other people don t know, and so they cannot be sure of the situation. He basically said the same thing on Twitter in December.Unless you catch  hackers  in the act, it is very hard to determine who was doing the hacking. Why wasn t this brought up before election?  Donald J. Trump (@realDonaldTrump) December 12, 2016So apparently, Trump fancies himself a military genius and a computer expert.Seriously, Trump needs to stop pretending he knows things that he doesn t really know. The reality is that he has never served in our military. He s an expert at draft-dodging but he is certainly no expert on ISIS. And while he clearly knows how to use social media, Trump definitely does not know how to hack a computer. HOur intelligence agencies know how to trace hacks because hacking leaves traces and signatures that can be used to determine where the hack originated.That s how we know Russia hacked us. It s incredibly dangerous for Trump to claim that he knows all this stuff and that he knows more than the experts. Because then he can undermine the experts all the time and his gullible supporters will believe him instead of the facts, which is what Trump has been doing for over a year and a half now. If Trump knows more about something, it s being a con artist. He s been doing that for decades so he s total pro.Featured image via Drew Angerer/Getty Images                                                                                                                                                                                                                                                                                                                                                                                                                                                                                                                                                                                                                                                                                                                                                                                                                                                                                                                                                                                                                                                                                                                                                                                                                                                                                                                                                                                                                                                                                                                                                                                                                                                                                                                                                                                                                                                                                                                                                                                                                                                                                                                                                                                                                      |\n",
      "|Pope Francis plane shifts course to avoid Hurricane IrmaROME (Reuters) - Pope Francis flew out of Italy on Wednesday headed for Colombia, with his plane forced to change route because of Hurricane Irma, which is powering across the northern Caribbean. The Alitalia aircraft had been expected to fly over the U.S. territory of Puerto Rico, but will instead shift south and cross the islands of Barbados, Grenada and Trinidad, a Vatican official said. Recent forecasts show that Irma, one of the most powerful Atlantic storms in a century, will hit Puerto Rico later on Wednesday. Francis, making his 20th foreign trip as pontiff and his fifth to his native Latin America, will spend five days in Colombia to encourage a peace process that ended half a century of war between the state and the guerrilla group FARC.                                                                                                                                                                                                                                                                                                                                                                                                                                                                                                                                                                                                                                                                                                                                                                                                                                                                                                                                                                                                                                                                                                                                                                                                                                                                                                                                                                                                                                                                                                                                                                                                                                                                                                                                                                                                                                                                                                                                                                                                                                                                                                                                                                                                                                                                                                                                                                                                                                                                                                                                                                                                                                                                                                                                                                                                                                                                                                                                                                                                                                                                                                                                                                                                                                                                                                                                                                                                                                                                                                                                                                                                                                                                                                                                                                                                                                                                                                                                                                                                                                                                                                                                                                                                                                                                                                                                                                                                                                                  |\n",
      "|Trump says popular retirement program will be unscathed in tax planWASHINGTON (Reuters) - President Donald Trump on Monday dismissed the possibility of curbing a popular tax-deferred U.S. retirement savings program to help pay for his sweeping tax cuts, and voiced doubts about adding another top bracket targeting the wealthiest Americans. The potential scaling back of 401(k) plans, which for four decades have helped millions of workers save for retirement, is one of several important details yet to be ironed out in a major tax overhaul that Trump promised as a candidate and wants his fellow Republicans who control Congress to pass by year’s end. The White House and its congressional allies have floated the idea of paring certain tax deductions to make up for revenue that would be lost because of their proposed tax cuts, the centerpiece of which is a sharp reduction in the corporate income tax rate. The Wall Street Journal and the New York Times reported on Friday that Republicans were considering an annual cap of about $2,400 on pre-tax contributions to 401(k) plans, roughly 13 percent of what workers under age 50 currently can contribute on a tax-deferred basis. That would slash the amount of money that workers can save for retirement in 401(k) plans, which typically are invested in a portfolio of mutual funds. “There will be NO change to your 401(k),” Trump wrote on Twitter. “This has always been a great and popular middle class tax break that works, and it stays!” Tampering with 401(k) plans, which have largely replaced defined benefit pensions in the United States, would risk alienating tens of millions of workers as well as Wall Street, which generates fees from managing the plans. Many companies match a percentage of their employees’ 401(k) contributions. It also would provide ammunition to Democrats, who have painted Trump’s plan, with its $6 trillion in tax cuts, as a gift to the rich and corporate America that would balloon the federal deficit. Senator Ron Wyden, the top Democrat on the tax-code writing Senate Finance Committee, criticized Republicans for not making decisions on issues related to middle-class taxpayers, while having already decided to cut taxes for corporations. “I am really struck with how the Republicans are handling this question of retirement accounts, which are a real lifeline for working families and as of this  moment, it is still not clear whether they are going to include a really bad idea that would make it harder for working families to prepare for retirement,” Wyden said.  More than 94 million Americans are covered by defined contribution plans like a 401(k), according to a recent study by asset manager Vanguard. Total assets in such plans exceed $7 trillion. Securing congressional passage of his tax plan is critically important to Trump, who has yet to get major legislation through Congress since taking office in January, including a healthcare overhaul he promised as a candidate last year.  The White House argues that tax cuts are needed to boost economic growth and create jobs, but has shown sensitivity in recent weeks to arguments that it is endangering America’s long-term fiscal health.  Based on the outline of the plan that was unveiled last month, independent experts have concluded that corporations and the highest earners would benefit the most, and many upper middle-income people would face higher taxes. There are signs Republicans may add a fourth income tax bracket for high earners to the tax blueprint, which envisions reducing the number of brackets to three from the current seven. The idea of an additional top tax bracket was floated by Republican House of Representatives Speaker Paul Ryan. In an interview broadcast on Fox Business Network on Monday, Trump appeared to pour cold water on the idea. “It may not happen,” Trump said. “The only reason I would have (it) ... is if for any reason I feel the middle class is not being properly taken care of.” There is also pressure from investors to pass the tax overhaul. The expectation of deep tax cuts has helped fuel a stock market rally during Trump’s first year as president, with the broad S&P 500 index up more than 13 percent. The index hit record highs every day last week, although it retreated on Monday.  “The question becomes what happens if tax reform doesn’t happen in 2017, does the market sell off into the year-end?” said Andrew Slimmon, portfolio manager at Morgan Stanley Investment Management in Chicago. Trump is expected to participate on Tuesday in Senate Republicans’ weekly policy lunch. He said he would press the lawmakers to act on taxes and that he thinks there are enough votes to pass the plan. While its broad parameters have been made public, the detailed legislation has not yet been unveiled. Democrats have urged Trump to include them in the development of the legislation. The Republican blueprint was devised without Democratic input. The last major tax restructuring, Republican former President Ronald Reagan’s 1986 overhaul, received significant input and support from Democrats. |\n",
      "+-----------------------------------------------------------------------------------------------------------------------------------------------------------------------------------------------------------------------------------------------------------------------------------------------------------------------------------------------------------------------------------------------------------------------------------------------------------------------------------------------------------------------------------------------------------------------------------------------------------------------------------------------------------------------------------------------------------------------------------------------------------------------------------------------------------------------------------------------------------------------------------------------------------------------------------------------------------------------------------------------------------------------------------------------------------------------------------------------------------------------------------------------------------------------------------------------------------------------------------------------------------------------------------------------------------------------------------------------------------------------------------------------------------------------------------------------------------------------------------------------------------------------------------------------------------------------------------------------------------------------------------------------------------------------------------------------------------------------------------------------------------------------------------------------------------------------------------------------------------------------------------------------------------------------------------------------------------------------------------------------------------------------------------------------------------------------------------------------------------------------------------------------------------------------------------------------------------------------------------------------------------------------------------------------------------------------------------------------------------------------------------------------------------------------------------------------------------------------------------------------------------------------------------------------------------------------------------------------------------------------------------------------------------------------------------------------------------------------------------------------------------------------------------------------------------------------------------------------------------------------------------------------------------------------------------------------------------------------------------------------------------------------------------------------------------------------------------------------------------------------------------------------------------------------------------------------------------------------------------------------------------------------------------------------------------------------------------------------------------------------------------------------------------------------------------------------------------------------------------------------------------------------------------------------------------------------------------------------------------------------------------------------------------------------------------------------------------------------------------------------------------------------------------------------------------------------------------------------------------------------------------------------------------------------------------------------------------------------------------------------------------------------------------------------------------------------------------------------------------------------------------------------------------------------------------------------------------------------------------------------------------------------------------------------------------------------------------------------------------------------------------------------------------------------------------------------------------------------------------------------------------------------------------------------------------------------------------------------------------------------------------------------------------------------------------------------------------------------------------------------------------------------------------------------------------------------------------------------------------------------------------------------------------------------------------------------------------------------------------------------------------------------------------------------------------------------------------------------------------------------------------------------------------------------------------------------------------------------------------------------------------------------------------------------+\n",
      "only showing top 5 rows\n",
      "\n"
     ]
    }
   ],
   "source": [
    "data.select(\"content\").show(n = 5, truncate=False)"
   ]
  },
  {
   "cell_type": "markdown",
   "metadata": {},
   "source": [
    "# Drop columns"
   ]
  },
  {
   "cell_type": "code",
   "execution_count": 49,
   "metadata": {},
   "outputs": [
    {
     "name": "stdout",
     "output_type": "stream",
     "text": [
      "+------+--------------------+\n",
      "|target|             content|\n",
      "+------+--------------------+\n",
      "|     0|Senate bill would...|\n",
      "|     0|German minister u...|\n",
      "+------+--------------------+\n",
      "only showing top 2 rows\n",
      "\n"
     ]
    }
   ],
   "source": [
    "columns_to_drop = [\"date\", \"title\", \"subject\", \"text\"]\n",
    "data = data.drop(*columns_to_drop)\n",
    "data.show(2)"
   ]
  },
  {
   "cell_type": "markdown",
   "metadata": {},
   "source": [
    "# Duplicate Rows"
   ]
  },
  {
   "cell_type": "code",
   "execution_count": 50,
   "metadata": {},
   "outputs": [
    {
     "name": "stderr",
     "output_type": "stream",
     "text": [
      "                                                                                \r"
     ]
    },
    {
     "name": "stdout",
     "output_type": "stream",
     "text": [
      "Duplicates 5305\n",
      "Total 44899\n"
     ]
    },
    {
     "name": "stderr",
     "output_type": "stream",
     "text": [
      "[Stage 157:===================================================>   (15 + 1) / 16]\r"
     ]
    },
    {
     "name": "stdout",
     "output_type": "stream",
     "text": [
      "Distinct 39106\n"
     ]
    },
    {
     "name": "stderr",
     "output_type": "stream",
     "text": [
      "                                                                                \r"
     ]
    }
   ],
   "source": [
    "duplicate_rows = data.groupBy(data.columns).count().filter(\"count > 1\")\n",
    "\n",
    "print(\"Duplicates\", duplicate_rows.count())\n",
    "print(\"Total\", data.count())\n",
    "print(\"Distinct\", data.distinct().count())"
   ]
  },
  {
   "cell_type": "code",
   "execution_count": 51,
   "metadata": {},
   "outputs": [
    {
     "name": "stdout",
     "output_type": "stream",
     "text": [
      "+------+--------------------+-----+\n",
      "|target|             content|count|\n",
      "+------+--------------------+-----+\n",
      "|     1|JUST IN: SUSPECTE...|    2|\n",
      "|     1|YOU’LL NEVER GUES...|    2|\n",
      "|     1|HOUSE INTEL Slaps...|    2|\n",
      "|     1|FLASHBACK: CNN HO...|    2|\n",
      "|     1|PRICELESS! WATCH ...|    2|\n",
      "|     1|CNN’S FAKE NEWS B...|    2|\n",
      "|     1|WATCH: MEGHAN MCC...|    2|\n",
      "|     1|“MAXINE WATERS IN...|    2|\n",
      "|     1|HEY CNN…REMEMBER ...|    2|\n",
      "|     1|HOW PRESIDENT TRU...|    2|\n",
      "+------+--------------------+-----+\n",
      "only showing top 10 rows\n",
      "\n"
     ]
    },
    {
     "name": "stderr",
     "output_type": "stream",
     "text": [
      "                                                                                \r"
     ]
    }
   ],
   "source": [
    "duplicate_rows.show(10)"
   ]
  },
  {
   "cell_type": "code",
   "execution_count": 52,
   "metadata": {},
   "outputs": [
    {
     "name": "stderr",
     "output_type": "stream",
     "text": [
      "                                                                                \r"
     ]
    },
    {
     "data": {
      "text/plain": [
       "39106"
      ]
     },
     "execution_count": 52,
     "metadata": {},
     "output_type": "execute_result"
    }
   ],
   "source": [
    "data = data.dropDuplicates()\n",
    "data.count()"
   ]
  },
  {
   "cell_type": "markdown",
   "metadata": {},
   "source": [
    "# Text Transform "
   ]
  },
  {
   "cell_type": "markdown",
   "metadata": {},
   "source": [
    "### 1. Lower Case"
   ]
  },
  {
   "cell_type": "code",
   "execution_count": 53,
   "metadata": {},
   "outputs": [
    {
     "name": "stdout",
     "output_type": "stream",
     "text": [
      "+------+--------------------+\n",
      "|target|             content|\n",
      "+------+--------------------+\n",
      "|     1| trump bucks gop ...|\n",
      "|     1| australia prime ...|\n",
      "|     1| mccain f*cked ov...|\n",
      "|     1| american psychoa...|\n",
      "|     1| senate gives tru...|\n",
      "+------+--------------------+\n",
      "only showing top 5 rows\n",
      "\n"
     ]
    },
    {
     "name": "stderr",
     "output_type": "stream",
     "text": [
      "                                                                                \r"
     ]
    }
   ],
   "source": [
    "# convert to all lower case\n",
    "data = data.withColumn(\"content\", lower(col(\"content\")))\n",
    "data.show(5)"
   ]
  },
  {
   "cell_type": "markdown",
   "metadata": {},
   "source": [
    "### 2. Remove Special Characters \n",
    "- like ! @"
   ]
  },
  {
   "cell_type": "code",
   "execution_count": 54,
   "metadata": {},
   "outputs": [
    {
     "name": "stdout",
     "output_type": "stream",
     "text": [
      "+------+--------------------+\n",
      "|target|             content|\n",
      "+------+--------------------+\n",
      "|     1| trump bucks gop ...|\n",
      "|     1| australia prime ...|\n",
      "|     1| mccain fcked ove...|\n",
      "|     1| american psychoa...|\n",
      "|     1| senate gives tru...|\n",
      "+------+--------------------+\n",
      "only showing top 5 rows\n",
      "\n"
     ]
    }
   ],
   "source": [
    "data = data.withColumn(\"content\", regexp_replace(\"content\", \"[^a-zA-Z0-9\\\\s]\", \"\"))\n",
    "data.show(5)"
   ]
  },
  {
   "cell_type": "markdown",
   "metadata": {},
   "source": [
    "### 3. Remove Stopwords"
   ]
  },
  {
   "cell_type": "code",
   "execution_count": 55,
   "metadata": {},
   "outputs": [
    {
     "name": "stderr",
     "output_type": "stream",
     "text": [
      "[Stage 184:>                                                        (0 + 1) / 1]\r"
     ]
    },
    {
     "name": "stdout",
     "output_type": "stream",
     "text": [
      "+------+--------------------+\n",
      "|target|             content|\n",
      "+------+--------------------+\n",
      "|     1|comes iran obama ...|\n",
      "|     1|obama something s...|\n",
      "|     1|obama uses speech...|\n",
      "|     0|obama nominate ac...|\n",
      "|     1|tim kaine reveals...|\n",
      "|     0|myanmar says secu...|\n",
      "|     0|debate protesters...|\n",
      "|     1|mainstream media ...|\n",
      "|     0|house speaker rya...|\n",
      "|     0|mccain calls trum...|\n",
      "+------+--------------------+\n",
      "only showing top 10 rows\n",
      "\n"
     ]
    },
    {
     "name": "stderr",
     "output_type": "stream",
     "text": [
      "                                                                                \r"
     ]
    }
   ],
   "source": [
    "remove_stop_words_udf = udf(remove_stop_words, StringType())\n",
    "data = data.withColumn(\"content\", remove_stop_words_udf(\"content\"))\n",
    "data.show(10)"
   ]
  },
  {
   "cell_type": "markdown",
   "metadata": {},
   "source": [
    "### 4. Stemming words"
   ]
  },
  {
   "cell_type": "code",
   "execution_count": 56,
   "metadata": {},
   "outputs": [
    {
     "name": "stderr",
     "output_type": "stream",
     "text": [
      "[Stage 186:==================================>                    (10 + 6) / 16]\r"
     ]
    },
    {
     "name": "stdout",
     "output_type": "stream",
     "text": [
      "+------+--------------------+\n",
      "|target|             content|\n",
      "+------+--------------------+\n",
      "|     1|come iran obama c...|\n",
      "|     1|obama someth say ...|\n",
      "|     1|obama use speech ...|\n",
      "|     0|obama nomin act e...|\n",
      "|     1|tim kain reveal w...|\n",
      "+------+--------------------+\n",
      "only showing top 5 rows\n",
      "\n"
     ]
    },
    {
     "name": "stderr",
     "output_type": "stream",
     "text": [
      "                                                                                \r"
     ]
    }
   ],
   "source": [
    "stem_words_udf = udf(stem_words, StringType())\n",
    "data = data.withColumn(\"content\", stem_words_udf(\"content\"))\n",
    "data.show(5)"
   ]
  },
  {
   "cell_type": "markdown",
   "metadata": {},
   "source": [
    "## Train Test Split"
   ]
  },
  {
   "cell_type": "code",
   "execution_count": 57,
   "metadata": {},
   "outputs": [],
   "source": [
    "train_data, test_data = data.randomSplit(weights=[0.8, 0.2], seed=100)"
   ]
  },
  {
   "cell_type": "code",
   "execution_count": 58,
   "metadata": {},
   "outputs": [],
   "source": [
    "# print(train_data.count())\n",
    "# print(test_data.count())"
   ]
  },
  {
   "cell_type": "code",
   "execution_count": 59,
   "metadata": {},
   "outputs": [],
   "source": [
    "feature_columns = [\"content\"]\n",
    "target_column = \"target\"\n",
    "\n",
    "X_train = train_data.select(*feature_columns)\n",
    "X_test = test_data.select(*feature_columns)\n",
    "\n",
    "y_train = train_data.select(target_column)\n",
    "y_test = test_data.select(target_column)"
   ]
  },
  {
   "cell_type": "code",
   "execution_count": 60,
   "metadata": {},
   "outputs": [],
   "source": [
    "# print(X_train.count())\n",
    "# print(y_train.count())\n",
    "\n",
    "# print(X_test.count())\n",
    "# print(y_test.count())"
   ]
  },
  {
   "cell_type": "markdown",
   "metadata": {},
   "source": [
    "### Count vectorization\n",
    "- count how many times each word show up in the text - frequency count\n",
    "-  transforms the count into DTM(Document Term Matrix)\n",
    "- Matices are store as sparse matrix to save space, as many values are 0\n",
    "- Bag of Words"
   ]
  },
  {
   "cell_type": "markdown",
   "metadata": {},
   "source": [
    "### TF-IDF \n",
    "- Term Frequency - Inverse Document Frequency\n",
    "- address issue with document frequency\n",
    "- instead of filling DMT with word frequency count, it calculates TD-IDF\n",
    "- TF: raw count of a term in the document\n",
    "- but words that are common accross documents? IDF !\n",
    "- IDF: diminishes the weight of term that occur frequently in the document set and increases the weight of term that occess rarely. "
   ]
  },
  {
   "cell_type": "markdown",
   "metadata": {},
   "source": [
    "### TfidfVectorizer\n",
    "- does both: create bag of word and convert to tfidf"
   ]
  },
  {
   "cell_type": "markdown",
   "metadata": {},
   "source": [
    "### Tokenization\n",
    "- split the content into words array"
   ]
  },
  {
   "cell_type": "code",
   "execution_count": 61,
   "metadata": {},
   "outputs": [
    {
     "name": "stderr",
     "output_type": "stream",
     "text": [
      "[Stage 198:>                                                        (0 + 1) / 1]\r"
     ]
    },
    {
     "name": "stdout",
     "output_type": "stream",
     "text": [
      "+--------------------+--------------------+\n",
      "|             content|           tokenized|\n",
      "+--------------------+--------------------+\n",
      "|17yearold danish ...|[17yearold, danis...|\n",
      "|2 hous republican...|[2, hous, republi...|\n",
      "|460 peopl injur c...|[460, peopl, inju...|\n",
      "+--------------------+--------------------+\n",
      "only showing top 3 rows\n",
      "\n"
     ]
    },
    {
     "name": "stderr",
     "output_type": "stream",
     "text": [
      "                                                                                \r"
     ]
    }
   ],
   "source": [
    "tokenizer = Tokenizer(inputCol=\"content\", outputCol=\"tokenized\")\n",
    "X_train = tokenizer.transform(X_train)\n",
    "X_train.show(3)"
   ]
  },
  {
   "cell_type": "code",
   "execution_count": 62,
   "metadata": {},
   "outputs": [
    {
     "name": "stderr",
     "output_type": "stream",
     "text": [
      "[Stage 205:>                                                        (0 + 1) / 1]\r"
     ]
    },
    {
     "name": "stdout",
     "output_type": "stream",
     "text": [
      "+--------------------+--------------------+\n",
      "|             content|           tokenized|\n",
      "+--------------------+--------------------+\n",
      "|900 state depart ...|[900, state, depa...|\n",
      "|act sec chair sig...|[act, sec, chair,...|\n",
      "|ahead debat trump...|[ahead, debat, tr...|\n",
      "+--------------------+--------------------+\n",
      "only showing top 3 rows\n",
      "\n"
     ]
    },
    {
     "name": "stderr",
     "output_type": "stream",
     "text": [
      "                                                                                \r"
     ]
    }
   ],
   "source": [
    "X_test = tokenizer.transform(X_test)\n",
    "X_test.show(3)"
   ]
  },
  {
   "cell_type": "markdown",
   "metadata": {},
   "source": [
    "### HashingTf \n",
    "- for term frequencies"
   ]
  },
  {
   "cell_type": "code",
   "execution_count": 63,
   "metadata": {},
   "outputs": [
    {
     "name": "stderr",
     "output_type": "stream",
     "text": [
      "[Stage 212:>                                                        (0 + 1) / 1]\r"
     ]
    },
    {
     "name": "stdout",
     "output_type": "stream",
     "text": [
      "+--------------------+--------------------+--------------------+\n",
      "|             content|           tokenized|            tfhashed|\n",
      "+--------------------+--------------------+--------------------+\n",
      "|17yearold danish ...|[17yearold, danis...|(100,[0,1,8,14,15...|\n",
      "|2 hous republican...|[2, hous, republi...|(100,[2,4,5,11,13...|\n",
      "|460 peopl injur c...|[460, peopl, inju...|(100,[5,6,8,9,12,...|\n",
      "|92 million sign o...|[92, million, sig...|(100,[1,2,4,5,6,7...|\n",
      "|abadi defend role...|[abadi, defend, r...|(100,[0,1,2,3,4,5...|\n",
      "|abandon philippin...|[abandon, philipp...|(100,[0,1,2,3,4,5...|\n",
      "|abe optimist posi...|[abe, optimist, p...|(100,[1,3,8,11,12...|\n",
      "|abe trump agre ra...|[abe, trump, agre...|(100,[3,5,7,11,12...|\n",
      "|ackman valeant pl...|[ackman, valeant,...|(100,[0,1,2,3,4,5...|\n",
      "|activist ire rise...|[activist, ire, r...|(100,[0,1,2,3,4,5...|\n",
      "+--------------------+--------------------+--------------------+\n",
      "only showing top 10 rows\n",
      "\n"
     ]
    },
    {
     "name": "stderr",
     "output_type": "stream",
     "text": [
      "                                                                                \r"
     ]
    }
   ],
   "source": [
    "hashingTf = HashingTF(inputCol=\"tokenized\", outputCol=\"tfhashed\", numFeatures=100)\n",
    "X_train = hashingTf.transform(X_train)\n",
    "X_train.show(10)"
   ]
  },
  {
   "cell_type": "code",
   "execution_count": 64,
   "metadata": {},
   "outputs": [
    {
     "name": "stderr",
     "output_type": "stream",
     "text": [
      "[Stage 219:>                                                        (0 + 1) / 1]\r"
     ]
    },
    {
     "name": "stdout",
     "output_type": "stream",
     "text": [
      "+--------------------+--------------------+--------------------+\n",
      "|             content|           tokenized|            tfhashed|\n",
      "+--------------------+--------------------+--------------------+\n",
      "|900 state depart ...|[900, state, depa...|(100,[8,10,12,16,...|\n",
      "|act sec chair sig...|[act, sec, chair,...|(100,[0,1,2,3,4,5...|\n",
      "|ahead debat trump...|[ahead, debat, tr...|(100,[1,2,3,4,6,8...|\n",
      "+--------------------+--------------------+--------------------+\n",
      "only showing top 3 rows\n",
      "\n"
     ]
    },
    {
     "name": "stderr",
     "output_type": "stream",
     "text": [
      "                                                                                \r"
     ]
    }
   ],
   "source": [
    "X_test = hashingTf.transform(X_test)\n",
    "X_test.show(3)"
   ]
  },
  {
   "cell_type": "markdown",
   "metadata": {},
   "source": [
    "\n",
    "\n",
    "### IDF\n",
    "- for inverse document frequency\n",
    "\n"
   ]
  },
  {
   "cell_type": "code",
   "execution_count": 65,
   "metadata": {},
   "outputs": [
    {
     "name": "stderr",
     "output_type": "stream",
     "text": [
      "[Stage 234:>                                                        (0 + 1) / 1]\r"
     ]
    },
    {
     "name": "stdout",
     "output_type": "stream",
     "text": [
      "+--------------------+--------------------+--------------------+--------------------+\n",
      "|             content|           tokenized|            tfhashed|            features|\n",
      "+--------------------+--------------------+--------------------+--------------------+\n",
      "|17yearold danish ...|[17yearold, danis...|(100,[0,1,8,14,15...|(100,[0,1,8,14,15...|\n",
      "|2 hous republican...|[2, hous, republi...|(100,[2,4,5,11,13...|(100,[2,4,5,11,13...|\n",
      "|460 peopl injur c...|[460, peopl, inju...|(100,[5,6,8,9,12,...|(100,[5,6,8,9,12,...|\n",
      "+--------------------+--------------------+--------------------+--------------------+\n",
      "only showing top 3 rows\n",
      "\n"
     ]
    },
    {
     "name": "stderr",
     "output_type": "stream",
     "text": [
      "                                                                                \r"
     ]
    }
   ],
   "source": [
    "idf = IDF(inputCol=\"tfhashed\", outputCol=\"features\")\n",
    "idfModel = idf.fit(X_train)\n",
    "X_train = idfModel.transform(X_train)\n",
    "X_train.show(3)"
   ]
  },
  {
   "cell_type": "code",
   "execution_count": 66,
   "metadata": {},
   "outputs": [
    {
     "name": "stderr",
     "output_type": "stream",
     "text": [
      "[Stage 241:>                                                        (0 + 1) / 1]\r"
     ]
    },
    {
     "name": "stdout",
     "output_type": "stream",
     "text": [
      "+--------------------+--------------------+--------------------+--------------------+\n",
      "|             content|           tokenized|            tfhashed|            features|\n",
      "+--------------------+--------------------+--------------------+--------------------+\n",
      "|900 state depart ...|[900, state, depa...|(100,[8,10,12,16,...|(100,[8,10,12,16,...|\n",
      "|act sec chair sig...|[act, sec, chair,...|(100,[0,1,2,3,4,5...|(100,[0,1,2,3,4,5...|\n",
      "|ahead debat trump...|[ahead, debat, tr...|(100,[1,2,3,4,6,8...|(100,[1,2,3,4,6,8...|\n",
      "+--------------------+--------------------+--------------------+--------------------+\n",
      "only showing top 3 rows\n",
      "\n"
     ]
    },
    {
     "name": "stderr",
     "output_type": "stream",
     "text": [
      "                                                                                \r"
     ]
    }
   ],
   "source": [
    "X_test = idfModel.transform(X_test)\n",
    "X_test.show(3)"
   ]
  },
  {
   "cell_type": "code",
   "execution_count": 67,
   "metadata": {},
   "outputs": [
    {
     "name": "stderr",
     "output_type": "stream",
     "text": [
      "[Stage 248:>                                                        (0 + 1) / 1]\r"
     ]
    },
    {
     "name": "stdout",
     "output_type": "stream",
     "text": [
      "+--------------------+\n",
      "|            features|\n",
      "+--------------------+\n",
      "|(100,[8,10,12,16,...|\n",
      "+--------------------+\n",
      "only showing top 1 row\n",
      "\n"
     ]
    },
    {
     "name": "stderr",
     "output_type": "stream",
     "text": [
      "                                                                                \r"
     ]
    }
   ],
   "source": [
    "X_test = X_test.select(\"features\")\n",
    "X_test.show(1)"
   ]
  },
  {
   "cell_type": "code",
   "execution_count": 68,
   "metadata": {},
   "outputs": [
    {
     "name": "stderr",
     "output_type": "stream",
     "text": [
      "[Stage 255:>                                                        (0 + 1) / 1]\r"
     ]
    },
    {
     "name": "stdout",
     "output_type": "stream",
     "text": [
      "+--------------------+\n",
      "|            features|\n",
      "+--------------------+\n",
      "|(100,[0,1,8,14,15...|\n",
      "+--------------------+\n",
      "only showing top 1 row\n",
      "\n"
     ]
    },
    {
     "name": "stderr",
     "output_type": "stream",
     "text": [
      "                                                                                \r"
     ]
    }
   ],
   "source": [
    "X_train = X_train.select(\"features\")\n",
    "X_train.show(1)"
   ]
  },
  {
   "cell_type": "code",
   "execution_count": null,
   "metadata": {},
   "outputs": [],
   "source": []
  }
 ],
 "metadata": {
  "kernelspec": {
   "display_name": "venv",
   "language": "python",
   "name": "python3"
  },
  "language_info": {
   "codemirror_mode": {
    "name": "ipython",
    "version": 3
   },
   "file_extension": ".py",
   "mimetype": "text/x-python",
   "name": "python",
   "nbconvert_exporter": "python",
   "pygments_lexer": "ipython3",
   "version": "3.12.0"
  }
 },
 "nbformat": 4,
 "nbformat_minor": 2
}
