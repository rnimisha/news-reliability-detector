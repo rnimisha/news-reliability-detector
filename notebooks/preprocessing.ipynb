{
 "cells": [
  {
   "cell_type": "code",
   "execution_count": 81,
   "metadata": {},
   "outputs": [],
   "source": [
    "import os\n",
    "\n",
    "project_root = \"/Users/nimisha/Desktop/learning/news-reliability-detector/\"\n",
    "os.chdir(project_root)"
   ]
  },
  {
   "cell_type": "code",
   "execution_count": 82,
   "metadata": {},
   "outputs": [],
   "source": [
    "from pyspark.sql import SparkSession\n",
    "from pyspark.sql.functions import col, lower, regexp_replace, udf, concat\n",
    "from pyspark.sql.types import StringType\n",
    "from pyspark.ml.feature import (\n",
    "    HashingTF,\n",
    "    IDF,\n",
    "    Tokenizer,\n",
    "    VectorAssembler,\n",
    "    StopWordsRemover,\n",
    ")\n",
    "from pyspark.ml import Pipeline\n",
    "\n",
    "# local modules\n",
    "from src.load.load_data import load\n",
    "from src.preprocessing.preprocessing import (\n",
    "    print_null_rows,\n",
    "    drop_missing_text_rows,\n",
    "    shuffle_rows,\n",
    "    remove_stop_words,\n",
    "    stem_words,\n",
    ")"
   ]
  },
  {
   "cell_type": "code",
   "execution_count": 83,
   "metadata": {},
   "outputs": [],
   "source": [
    "spark = SparkSession.builder.appName(\"NewsReliability\").getOrCreate()"
   ]
  },
  {
   "cell_type": "code",
   "execution_count": 84,
   "metadata": {},
   "outputs": [],
   "source": [
    "data = load(spark)"
   ]
  },
  {
   "cell_type": "code",
   "execution_count": 85,
   "metadata": {},
   "outputs": [
    {
     "name": "stdout",
     "output_type": "stream",
     "text": [
      "+--------------------+--------------------+-------+-----------------+------+\n",
      "|               title|                text|subject|             date|target|\n",
      "+--------------------+--------------------+-------+-----------------+------+\n",
      "| Donald Trump Sen...|Donald Trump just...|   News|December 31, 2017|     1|\n",
      "| Drunk Bragging T...|House Intelligenc...|   News|December 31, 2017|     1|\n",
      "| Sheriff David Cl...|On Friday, it was...|   News|December 30, 2017|     1|\n",
      "| Trump Is So Obse...|On Christmas day,...|   News|December 29, 2017|     1|\n",
      "| Pope Francis Jus...|Pope Francis used...|   News|December 25, 2017|     1|\n",
      "| Racist Alabama C...|The number of cas...|   News|December 25, 2017|     1|\n",
      "| Fresh Off The Go...|Donald Trump spen...|   News|December 23, 2017|     1|\n",
      "| Trump Said Some ...|In the wake of ye...|   News|December 23, 2017|     1|\n",
      "| Former CIA Direc...|Many people have ...|   News|December 22, 2017|     1|\n",
      "| WATCH: Brand-New...|Just when you mig...|   News|December 21, 2017|     1|\n",
      "+--------------------+--------------------+-------+-----------------+------+\n",
      "only showing top 10 rows\n",
      "\n"
     ]
    }
   ],
   "source": [
    "data.show(10)"
   ]
  },
  {
   "cell_type": "code",
   "execution_count": 86,
   "metadata": {},
   "outputs": [
    {
     "name": "stdout",
     "output_type": "stream",
     "text": [
      "root\n",
      " |-- title: string (nullable = true)\n",
      " |-- text: string (nullable = true)\n",
      " |-- subject: string (nullable = true)\n",
      " |-- date: string (nullable = true)\n",
      " |-- target: integer (nullable = false)\n",
      "\n"
     ]
    }
   ],
   "source": [
    "data.printSchema()"
   ]
  },
  {
   "cell_type": "markdown",
   "metadata": {},
   "source": [
    "# Handling Missing Values"
   ]
  },
  {
   "cell_type": "code",
   "execution_count": 87,
   "metadata": {},
   "outputs": [
    {
     "name": "stderr",
     "output_type": "stream",
     "text": [
      "[Stage 225:==================================>                    (10 + 6) / 16]\r"
     ]
    },
    {
     "name": "stdout",
     "output_type": "stream",
     "text": [
      "+-----+----+-------+----+------+\n",
      "|title|text|subject|date|target|\n",
      "+-----+----+-------+----+------+\n",
      "|    0|   8|      8|   8|     0|\n",
      "+-----+----+-------+----+------+\n",
      "\n"
     ]
    },
    {
     "name": "stderr",
     "output_type": "stream",
     "text": [
      "                                                                                \r"
     ]
    }
   ],
   "source": [
    "print_null_rows(data)"
   ]
  },
  {
   "cell_type": "code",
   "execution_count": 88,
   "metadata": {},
   "outputs": [
    {
     "name": "stdout",
     "output_type": "stream",
     "text": [
      "+--------------------+----+-------+----+------+\n",
      "|               title|text|subject|date|target|\n",
      "+--------------------+----+-------+----+------+\n",
      "|                   \"|NULL|   NULL|NULL|     1|\n",
      "|Ex-GOP Congressma...|NULL|   NULL|NULL|     1|\n",
      "|                   \"|NULL|   NULL|NULL|     1|\n",
      "|WATCH: Democratic...|NULL|   NULL|NULL|     1|\n",
      "|                   \"|NULL|   NULL|NULL|     1|\n",
      "|Trump Gets STOMPE...|NULL|   NULL|NULL|     1|\n",
      "|                   \"|NULL|   NULL|NULL|     1|\n",
      "|Donald Trump Gets...|NULL|   NULL|NULL|     1|\n",
      "+--------------------+----+-------+----+------+\n",
      "\n"
     ]
    }
   ],
   "source": [
    "data.filter(data.text.isNull()).show()"
   ]
  },
  {
   "cell_type": "code",
   "execution_count": 89,
   "metadata": {},
   "outputs": [],
   "source": [
    "data = drop_missing_text_rows(data)"
   ]
  },
  {
   "cell_type": "code",
   "execution_count": 90,
   "metadata": {},
   "outputs": [
    {
     "name": "stdout",
     "output_type": "stream",
     "text": [
      "+-----+----+-------+----+------+\n",
      "|title|text|subject|date|target|\n",
      "+-----+----+-------+----+------+\n",
      "+-----+----+-------+----+------+\n",
      "\n"
     ]
    }
   ],
   "source": [
    "data.filter(data.text.isNull()).show()"
   ]
  },
  {
   "cell_type": "code",
   "execution_count": 91,
   "metadata": {},
   "outputs": [
    {
     "name": "stdout",
     "output_type": "stream",
     "text": [
      "+-----+----+-------+----+------+\n",
      "|title|text|subject|date|target|\n",
      "+-----+----+-------+----+------+\n",
      "|    0|   0|      0|   0|     0|\n",
      "+-----+----+-------+----+------+\n",
      "\n"
     ]
    }
   ],
   "source": [
    "print_null_rows(data)"
   ]
  },
  {
   "cell_type": "markdown",
   "metadata": {},
   "source": [
    "# Randomize the order of data rows"
   ]
  },
  {
   "cell_type": "code",
   "execution_count": 92,
   "metadata": {},
   "outputs": [
    {
     "name": "stdout",
     "output_type": "stream",
     "text": [
      "+--------------------+--------------------+------------+-----------------+------+\n",
      "|               title|                text|     subject|             date|target|\n",
      "+--------------------+--------------------+------------+-----------------+------+\n",
      "|China says U.S. v...|BEIJING (Reuters)...|   worldnews|October 11, 2017 |     0|\n",
      "|HA-HA! RETIRED MA...|It s always a win...|    politics|      Aug 9, 2017|     1|\n",
      "|China says its ha...|BEIJING (Reuters)...|politicsNews| January 3, 2017 |     0|\n",
      "| Trump Administra...|Donald Trump s un...|        News|   April 13, 2017|     1|\n",
      "|U.S. Senate confi...|WASHINGTON (Reute...|politicsNews|  April 27, 2017 |     0|\n",
      "|Watchdog presses ...|(Reuters) - A gov...|politicsNews|   March 8, 2017 |     0|\n",
      "| Conservative Whi...|Meryl Streep made...|        News|  January 9, 2017|     1|\n",
      "|Trump attacks Mit...|BEDMINSTER, N.J. ...|politicsNews| August 10, 2017 |     0|\n",
      "|Chicago schools w...|CHICAGO (Reuters)...|politicsNews|  April 12, 2016 |     0|\n",
      "| WATCH: Hypocrite...|Clearly, Fox host...|        News| January 19, 2017|     1|\n",
      "+--------------------+--------------------+------------+-----------------+------+\n",
      "only showing top 10 rows\n",
      "\n"
     ]
    }
   ],
   "source": [
    "data = shuffle_rows(data)\n",
    "data.show(10)"
   ]
  },
  {
   "cell_type": "markdown",
   "metadata": {},
   "source": [
    "## Feature Creating"
   ]
  },
  {
   "cell_type": "code",
   "execution_count": 93,
   "metadata": {},
   "outputs": [
    {
     "name": "stdout",
     "output_type": "stream",
     "text": [
      "+--------------------+--------------------+------------+-----------------+------+--------------------+\n",
      "|               title|                text|     subject|             date|target|             content|\n",
      "+--------------------+--------------------+------------+-----------------+------+--------------------+\n",
      "|China says U.S. v...|BEIJING (Reuters)...|   worldnews|October 11, 2017 |     0|China says U.S. v...|\n",
      "|HA-HA! RETIRED MA...|It s always a win...|    politics|      Aug 9, 2017|     1|HA-HA! RETIRED MA...|\n",
      "|China says its ha...|BEIJING (Reuters)...|politicsNews| January 3, 2017 |     0|China says its ha...|\n",
      "+--------------------+--------------------+------------+-----------------+------+--------------------+\n",
      "only showing top 3 rows\n",
      "\n"
     ]
    }
   ],
   "source": [
    "# combine title and text column to make news content\n",
    "data = data.withColumn('content', concat(data['title'], data['text']))\n",
    "data.show(3)"
   ]
  },
  {
   "cell_type": "code",
   "execution_count": 94,
   "metadata": {},
   "outputs": [
    {
     "name": "stdout",
     "output_type": "stream",
     "text": [
      "+---------------------------------------------------------------------------------------------------------------------------------------------------------------------------------------------------------------------------------------------------------------------------------------------------------------------------------------------------------------------------------------------------------------------------------------------------------------------------------------------------------------------------------------------------------------------------------------------------------------------------------------------------------------------------------------------------------------------------------------------------------------------------------------------------------------------------------------------------------------------------------------------------------------------------------------------------------------------------------------------------------------------------------------------------------------------------------------------------------------------------------------------------------------------------------------------------------------------------------------------------------------------------------------------------------------------------------------------------------------------------------------------------------------------------------------------------------------------------------------------------------------------------------------------------------------------------------------------------------------------------------------------------------------------------------------------------------------------------------------------------------------------------------------------------------------------------------------------------------------------------------------------------------------------------------------------------------------------------------------------------------------------------------------------------------------------------------------------------------------------------------------------------------------------------------------------------------------------------------------------------------------------------------------------------------------------------------------------------------------------------------------------------------------------------------------------------------------------------------------------------------------------------------------------------------------------------------------------+\n",
      "|content                                                                                                                                                                                                                                                                                                                                                                                                                                                                                                                                                                                                                                                                                                                                                                                                                                                                                                                                                                                                                                                                                                                                                                                                                                                                                                                                                                                                                                                                                                                                                                                                                                                                                                                                                                                                                                                                                                                                                                                                                                                                                                                                                                                                                                                                                                                                                                                                                                                                                                                                                                                      |\n",
      "+---------------------------------------------------------------------------------------------------------------------------------------------------------------------------------------------------------------------------------------------------------------------------------------------------------------------------------------------------------------------------------------------------------------------------------------------------------------------------------------------------------------------------------------------------------------------------------------------------------------------------------------------------------------------------------------------------------------------------------------------------------------------------------------------------------------------------------------------------------------------------------------------------------------------------------------------------------------------------------------------------------------------------------------------------------------------------------------------------------------------------------------------------------------------------------------------------------------------------------------------------------------------------------------------------------------------------------------------------------------------------------------------------------------------------------------------------------------------------------------------------------------------------------------------------------------------------------------------------------------------------------------------------------------------------------------------------------------------------------------------------------------------------------------------------------------------------------------------------------------------------------------------------------------------------------------------------------------------------------------------------------------------------------------------------------------------------------------------------------------------------------------------------------------------------------------------------------------------------------------------------------------------------------------------------------------------------------------------------------------------------------------------------------------------------------------------------------------------------------------------------------------------------------------------------------------------------------------------+\n",
      "|China says U.S. violated its sovereignty in South China SeaBEIJING (Reuters) - China said on Wednesday that the United States had violated its sovereignty and security, after a U.S. Navy destroyer sailed near islands that Beijing claims in the South China Sea. China firmly opposes the U.S. move, the Defense Ministry said in a statement on its microblog.                                                                                                                                                                                                                                                                                                                                                                                                                                                                                                                                                                                                                                                                                                                                                                                                                                                                                                                                                                                                                                                                                                                                                                                                                                                                                                                                                                                                                                                                                                                                                                                                                                                                                                                                                                                                                                                                                                                                                                                                                                                                                                                                                                                                                          |\n",
      "|HA-HA! RETIRED MARINE TROLLS LIBERAL NEW YORKERS…Says POTUS Is ‘Tough Love’ We Need [Video]It s always a win-win when you can find a hobby you enjoy, especially when it allows you to get some exercise and enjoy the nice summer weather. This retired Marine hit the jackpot by finding a way to keep himself entertained and fit during retirement: trolling New York liberals by boat.Nearly every day, Dion Cini will row down the Hudson River while flying a  Trump 2020  flag to incite the frustration of New Yorkers, a group who overwhelmingly voted for Hillary Clinton this past election.This retired Marine can t get enough of the responses he gets from people who spot him rowing around Manhattan. Sometimes you hear  I hope you get hit by a boat! I hope you drown!  he said.  From the top of their lungs as loud as they can. It can be from the edge of the river. It can be from cars driving by on the river. It can be from windows. I get it all the time and then I get it even on rooftop bars. Cini calls himself an  ultra-conservative  and thinks that Americans need a  wake-up call.   He said,  I call it tough love. (President) Trump is tough love. Cini recalled being told to leave Washington Square Park with his flag because it was  not conservative land  but he vowed that no one would stop him.Luckily, these angry New Yorkers haven t swayed Cini one bit. He s considering getting a bigger flag spanning twenty feet. And a bigger boat. Despite his retirement, it s inspiring to see that this Marine s devotion to patriotism hasn t wavered.Read more: BizPac Review                                                                                                                                                                                                                                                                                                                                                                                                                                                                                                                                                                                                                                                                                                                                                                                                                                                                                                                                                          |\n",
      "|China says its hard work on denuclearization of Korean peninsula is obviousBEIJING (Reuters) - China’s hard work in trying to ensure the denuclearization of the Korean peninsula is obvious to all, China’s Foreign Ministry said on Tuesday after U.S. President-elect Donald Trump said Beijing was not helping to control North Korea.  Ministry spokesman Geng Shuang, speaking at a regular press briefing, also urged the United States to recognize the sensitivity of the Taiwan issue after Trump left open the possibility of meeting Taiwan’s president if she visits the United States after he is sworn in on Jan. 20.                                                                                                                                                                                                                                                                                                                                                                                                                                                                                                                                                                                                                                                                                                                                                                                                                                                                                                                                                                                                                                                                                                                                                                                                                                                                                                                                                                                                                                                                                                                                                                                                                                                                                                                                                                                                                                                                                                                                                         |\n",
      "| Trump Administration In FREE FALL After ‘Concrete Evidence’ Linking Trump To Russia Emerges (DETAILS)Donald Trump s undeserved time in the White House may soon come to a gloriously relieving end as one of his biggest scandals threatens to blow up in his face.According to a source close to the investigation examining the ties between Russia and the Trump campaign, there is now specific concrete and corroborative evidence  that Trump s inner circle colluded with Russian operatives during the presidential election. The Guardian reported that the U.K. s Government Communications Headquarters (GCHQ), which has been watching over the Trump campaign since 2015, has noted several shady  interactions  going on between Trump s people and Russian agents.The GCHQ hadn t been necessarily looking for this information but picked it up during routine surveillance. It wasn t long before other intelligence agencies began to see the same pattern. The U.S. also received information from the  Five Eyes  alliance (U.S., U.K., Canada, Australia and New Zealand) and European agencies in Germany, Estonia, and Poland. The Guardian reported: It is understood that GCHQ was at no point carrying out a targeted operation against Trump or his team or proactively seeking information. The alleged conversations were picked up by chance as part of routine surveillance of Russian intelligence assets. Over several months, different agencies targeting the same people began to see a pattern of connections that were flagged to intelligence officials in the US. With all of this gathered intelligence taken into consideration, the source close to the investigation said: They now have specific concrete and corroborative evidence of collusion. This is between people in the Trump campaign and agents of [Russian] influence relating to the use of hacked material. They [the European agencies] were saying:  There are contacts going on between people close to Mr Trump and people we believe are Russian intelligence agents. You should be wary of this.  The message was:  Watch out. There s something not right.' As this investigation continues and collusion is confirmed, we might be looking at the end of Trump and his corrupt administration.Featured image via Pool/Getty Images                                                                                                                                                                                                                                       |\n",
      "|U.S. Senate confirms Acosta to head Labor DepartmentWASHINGTON (Reuters) - R. Alexander Acosta was confirmed on Thursday by the U.S. Senate to head the Labor Department, making him the first Hispanic member of President Donald Trump’s cabinet. Acosta, a former member of the National Labor Relations Board and dean of the Florida International University College of Law in Miami, was nominated as labor secretary by Trump in mid-February. The Senate confirmed Acosta by a 60-38 vote. Acosta was expected to have a smooth confirmation process despite objections from some Democrats and workers groups that he is too friendly to business. Acosta has had a decades-long career in the public sector, including multiple Senate vettings for past appointments, making it unlikely any surprises in his background would derail his nomination. Acosta served on the NLRB under former Republican President George W. Bush, who also appointed him to be assistant attorney general in the Justice Department’s Civil Rights Division. He was then appointed U.S. attorney for the Southern District of Florida, where he went after high-profile defendants such as Jack Abramoff and UBS (UBSG.S)(UBS.N), resulting in the Swiss bank paying more than $750 million in fines for a tax-avoidance scheme. Acosta had served as a law clerk to Samuel Alito from 1994 to 1995, when the conservative Supreme Court justice was a judge at the 3rd U.S. Circuit Court of Appeals. Acosta told the Senate Committee on Health, Education, Labor and Pensions during his confirmation hearing that he had reservations about key Obama-era labor regulations. Acosta supported the recent 60-day delay of the Labor Department’s fiduciary rule, originally slated to take effect on April 10, which requires brokers offering retirement investment advice to put their clients’ interest first. Trump had directed the Labor Department to review the rule to determine whether it is burdensome and out of step with current White House policies. Also during the confirmation hearing, Acosta expressed reservations about another Obama administration rule issued last year that more than doubled the salary ceiling under which employees would be eligible for overtime pay, from $23,660 to $47,476 a year. The rule, which extended overtime pay to more than 4 million salaried workers, was blocked by a federal judge in November. Acosta said he had “serious questions as to whether the secretary of labor had the power to enact this in the first place.” |\n",
      "+---------------------------------------------------------------------------------------------------------------------------------------------------------------------------------------------------------------------------------------------------------------------------------------------------------------------------------------------------------------------------------------------------------------------------------------------------------------------------------------------------------------------------------------------------------------------------------------------------------------------------------------------------------------------------------------------------------------------------------------------------------------------------------------------------------------------------------------------------------------------------------------------------------------------------------------------------------------------------------------------------------------------------------------------------------------------------------------------------------------------------------------------------------------------------------------------------------------------------------------------------------------------------------------------------------------------------------------------------------------------------------------------------------------------------------------------------------------------------------------------------------------------------------------------------------------------------------------------------------------------------------------------------------------------------------------------------------------------------------------------------------------------------------------------------------------------------------------------------------------------------------------------------------------------------------------------------------------------------------------------------------------------------------------------------------------------------------------------------------------------------------------------------------------------------------------------------------------------------------------------------------------------------------------------------------------------------------------------------------------------------------------------------------------------------------------------------------------------------------------------------------------------------------------------------------------------------------------------+\n",
      "only showing top 5 rows\n",
      "\n"
     ]
    }
   ],
   "source": [
    "data.select(\"content\").show(n = 5, truncate=False)"
   ]
  },
  {
   "cell_type": "markdown",
   "metadata": {},
   "source": [
    "# Drop columns"
   ]
  },
  {
   "cell_type": "code",
   "execution_count": 95,
   "metadata": {},
   "outputs": [
    {
     "name": "stdout",
     "output_type": "stream",
     "text": [
      "+------+--------------------+\n",
      "|target|             content|\n",
      "+------+--------------------+\n",
      "|     0|China says U.S. v...|\n",
      "|     1|HA-HA! RETIRED MA...|\n",
      "+------+--------------------+\n",
      "only showing top 2 rows\n",
      "\n"
     ]
    }
   ],
   "source": [
    "columns_to_drop = [\"date\", \"title\", \"subject\", \"text\"]\n",
    "data = data.drop(*columns_to_drop)\n",
    "data.show(2)"
   ]
  },
  {
   "cell_type": "markdown",
   "metadata": {},
   "source": [
    "# Duplicate Rows"
   ]
  },
  {
   "cell_type": "code",
   "execution_count": 96,
   "metadata": {},
   "outputs": [
    {
     "name": "stderr",
     "output_type": "stream",
     "text": [
      "                                                                                \r"
     ]
    },
    {
     "name": "stdout",
     "output_type": "stream",
     "text": [
      "Duplicates 5305\n",
      "Total 44899\n"
     ]
    },
    {
     "name": "stderr",
     "output_type": "stream",
     "text": [
      "[Stage 250:===============================>                        (9 + 7) / 16]\r"
     ]
    },
    {
     "name": "stdout",
     "output_type": "stream",
     "text": [
      "Distinct 39106\n"
     ]
    },
    {
     "name": "stderr",
     "output_type": "stream",
     "text": [
      "                                                                                \r"
     ]
    }
   ],
   "source": [
    "duplicate_rows = data.groupBy(data.columns).count().filter(\"count > 1\")\n",
    "\n",
    "print(\"Duplicates\", duplicate_rows.count())\n",
    "print(\"Total\", data.count())\n",
    "print(\"Distinct\", data.distinct().count())"
   ]
  },
  {
   "cell_type": "code",
   "execution_count": 97,
   "metadata": {},
   "outputs": [
    {
     "name": "stderr",
     "output_type": "stream",
     "text": [
      "[Stage 256:============================>                           (8 + 8) / 16]\r"
     ]
    },
    {
     "name": "stdout",
     "output_type": "stream",
     "text": [
      "+------+--------------------+-----+\n",
      "|target|             content|count|\n",
      "+------+--------------------+-----+\n",
      "|     1|JUST IN: SUSPECTE...|    2|\n",
      "|     1|YOU’LL NEVER GUES...|    2|\n",
      "|     1|HOUSE INTEL Slaps...|    2|\n",
      "|     1|FLASHBACK: CNN HO...|    2|\n",
      "|     1|PRICELESS! WATCH ...|    2|\n",
      "|     1|CNN’S FAKE NEWS B...|    2|\n",
      "|     1|WATCH: MEGHAN MCC...|    2|\n",
      "|     1|“MAXINE WATERS IN...|    2|\n",
      "|     1|HEY CNN…REMEMBER ...|    2|\n",
      "|     1|HOW PRESIDENT TRU...|    2|\n",
      "+------+--------------------+-----+\n",
      "only showing top 10 rows\n",
      "\n"
     ]
    },
    {
     "name": "stderr",
     "output_type": "stream",
     "text": [
      "                                                                                \r"
     ]
    }
   ],
   "source": [
    "duplicate_rows.show(10)"
   ]
  },
  {
   "cell_type": "code",
   "execution_count": 98,
   "metadata": {},
   "outputs": [
    {
     "name": "stderr",
     "output_type": "stream",
     "text": [
      "                                                                                \r"
     ]
    },
    {
     "data": {
      "text/plain": [
       "39106"
      ]
     },
     "execution_count": 98,
     "metadata": {},
     "output_type": "execute_result"
    }
   ],
   "source": [
    "data = data.dropDuplicates()\n",
    "data.count()"
   ]
  },
  {
   "cell_type": "markdown",
   "metadata": {},
   "source": [
    "# Text Transform "
   ]
  },
  {
   "cell_type": "markdown",
   "metadata": {},
   "source": [
    "### 1. Lower Case"
   ]
  },
  {
   "cell_type": "code",
   "execution_count": 99,
   "metadata": {},
   "outputs": [
    {
     "name": "stderr",
     "output_type": "stream",
     "text": [
      "[Stage 265:=====================================>                 (11 + 5) / 16]\r"
     ]
    },
    {
     "name": "stdout",
     "output_type": "stream",
     "text": [
      "+------+--------------------+\n",
      "|target|             content|\n",
      "+------+--------------------+\n",
      "|     1| trump bucks gop ...|\n",
      "|     1| australia prime ...|\n",
      "|     1| mccain f*cked ov...|\n",
      "|     1| american psychoa...|\n",
      "|     1| senate gives tru...|\n",
      "+------+--------------------+\n",
      "only showing top 5 rows\n",
      "\n"
     ]
    },
    {
     "name": "stderr",
     "output_type": "stream",
     "text": [
      "                                                                                \r"
     ]
    }
   ],
   "source": [
    "# convert to all lower case\n",
    "data = data.withColumn(\"content\", lower(col(\"content\")))\n",
    "data.show(5)"
   ]
  },
  {
   "cell_type": "markdown",
   "metadata": {},
   "source": [
    "### 2. Remove Special Characters \n",
    "- like ! @"
   ]
  },
  {
   "cell_type": "code",
   "execution_count": 100,
   "metadata": {},
   "outputs": [
    {
     "name": "stderr",
     "output_type": "stream",
     "text": [
      "[Stage 268:===============================>                        (9 + 7) / 16]\r"
     ]
    },
    {
     "name": "stdout",
     "output_type": "stream",
     "text": [
      "+------+--------------------+\n",
      "|target|             content|\n",
      "+------+--------------------+\n",
      "|     1| trump bucks gop ...|\n",
      "|     1| australia prime ...|\n",
      "|     1| mccain fcked ove...|\n",
      "|     1| american psychoa...|\n",
      "|     1| senate gives tru...|\n",
      "+------+--------------------+\n",
      "only showing top 5 rows\n",
      "\n"
     ]
    },
    {
     "name": "stderr",
     "output_type": "stream",
     "text": [
      "                                                                                \r"
     ]
    }
   ],
   "source": [
    "data = data.withColumn(\"content\", regexp_replace(\"content\", \"[^a-zA-Z0-9\\\\s]\", \"\"))\n",
    "data.show(5)"
   ]
  },
  {
   "cell_type": "markdown",
   "metadata": {},
   "source": [
    "### 3. Remove Stopwords"
   ]
  },
  {
   "cell_type": "code",
   "execution_count": 101,
   "metadata": {},
   "outputs": [
    {
     "name": "stderr",
     "output_type": "stream",
     "text": [
      "[Stage 277:>                                                        (0 + 1) / 1]\r"
     ]
    },
    {
     "name": "stdout",
     "output_type": "stream",
     "text": [
      "+------+--------------------+\n",
      "|target|             content|\n",
      "+------+--------------------+\n",
      "|     1|two somali muslim...|\n",
      "|     0|us consumer watch...|\n",
      "|     0|trump pushes us l...|\n",
      "|     1|video democrats f...|\n",
      "|     0|venezuela preside...|\n",
      "|     1|mainstream media ...|\n",
      "|     0|may nudges uk tow...|\n",
      "|     1|trumps vp pick at...|\n",
      "|     0|us senator hatch ...|\n",
      "|     1|black politicians...|\n",
      "+------+--------------------+\n",
      "only showing top 10 rows\n",
      "\n"
     ]
    },
    {
     "name": "stderr",
     "output_type": "stream",
     "text": [
      "                                                                                \r"
     ]
    }
   ],
   "source": [
    "remove_stop_words_udf = udf(remove_stop_words, StringType())\n",
    "data = data.withColumn(\"content\", remove_stop_words_udf(\"content\"))\n",
    "data.show(10)"
   ]
  },
  {
   "cell_type": "markdown",
   "metadata": {},
   "source": [
    "### 4. Stemming words"
   ]
  },
  {
   "cell_type": "code",
   "execution_count": 102,
   "metadata": {},
   "outputs": [
    {
     "name": "stderr",
     "output_type": "stream",
     "text": [
      "[Stage 284:>                                                        (0 + 1) / 1]\r"
     ]
    },
    {
     "name": "stdout",
     "output_type": "stream",
     "text": [
      "+------+--------------------+\n",
      "|target|             content|\n",
      "+------+--------------------+\n",
      "|     1|two somali muslim...|\n",
      "|     0|us consum watchdo...|\n",
      "|     0|trump push us lab...|\n",
      "|     1|video democrat fr...|\n",
      "|     0|venezuela presid ...|\n",
      "+------+--------------------+\n",
      "only showing top 5 rows\n",
      "\n"
     ]
    },
    {
     "name": "stderr",
     "output_type": "stream",
     "text": [
      "                                                                                \r"
     ]
    }
   ],
   "source": [
    "stem_words_udf = udf(stem_words, StringType())\n",
    "data = data.withColumn(\"content\", stem_words_udf(\"content\"))\n",
    "data.show(5)"
   ]
  },
  {
   "cell_type": "markdown",
   "metadata": {},
   "source": [
    "## Train Test Split"
   ]
  },
  {
   "cell_type": "code",
   "execution_count": 103,
   "metadata": {},
   "outputs": [],
   "source": [
    "train_data, test_data = data.randomSplit(weights=[0.8, 0.2], seed=100)"
   ]
  },
  {
   "cell_type": "code",
   "execution_count": 104,
   "metadata": {},
   "outputs": [],
   "source": [
    "# print(train_data.count())\n",
    "# print(test_data.count())"
   ]
  },
  {
   "cell_type": "markdown",
   "metadata": {},
   "source": [
    "### Count vectorization\n",
    "- count how many times each word show up in the text - frequency count\n",
    "-  transforms the count into DTM(Document Term Matrix)\n",
    "- Matices are store as sparse matrix to save space, as many values are 0\n",
    "- Bag of Words"
   ]
  },
  {
   "cell_type": "markdown",
   "metadata": {},
   "source": [
    "### TF-IDF \n",
    "- Term Frequency - Inverse Document Frequency\n",
    "- address issue with document frequency\n",
    "- instead of filling DMT with word frequency count, it calculates TD-IDF\n",
    "- TF: raw count of a term in the document\n",
    "- but words that are common accross documents? IDF !\n",
    "- IDF: diminishes the weight of term that occur frequently in the document set and increases the weight of term that occess rarely. "
   ]
  },
  {
   "cell_type": "markdown",
   "metadata": {},
   "source": [
    "### TfidfVectorizer\n",
    "- does both: create bag of word and convert to tfidf"
   ]
  },
  {
   "cell_type": "markdown",
   "metadata": {},
   "source": [
    "### Tokenization\n",
    "- split the content into words array"
   ]
  },
  {
   "cell_type": "code",
   "execution_count": 105,
   "metadata": {},
   "outputs": [],
   "source": [
    "tokenizer = Tokenizer(inputCol=\"content\", outputCol=\"tokenized\")"
   ]
  },
  {
   "cell_type": "markdown",
   "metadata": {},
   "source": [
    "### HashingTf \n",
    "- for term frequencies"
   ]
  },
  {
   "cell_type": "code",
   "execution_count": 106,
   "metadata": {},
   "outputs": [],
   "source": [
    "hashingTf = HashingTF(inputCol=\"tokenized\", outputCol=\"tfhashed\", numFeatures=100)"
   ]
  },
  {
   "cell_type": "markdown",
   "metadata": {},
   "source": [
    "\n",
    "\n",
    "### IDF\n",
    "- for inverse document frequency\n",
    "\n"
   ]
  },
  {
   "cell_type": "code",
   "execution_count": 107,
   "metadata": {},
   "outputs": [],
   "source": [
    "idf = IDF(inputCol=\"tfhashed\", outputCol=\"features\")"
   ]
  },
  {
   "cell_type": "markdown",
   "metadata": {},
   "source": [
    "### Vector Assembler"
   ]
  },
  {
   "cell_type": "code",
   "execution_count": 108,
   "metadata": {},
   "outputs": [],
   "source": [
    "feature_assembler = VectorAssembler(inputCols=[\"features\"], outputCol=\"features_vector\")"
   ]
  },
  {
   "cell_type": "markdown",
   "metadata": {},
   "source": [
    "## Pipeline"
   ]
  },
  {
   "cell_type": "code",
   "execution_count": 109,
   "metadata": {},
   "outputs": [],
   "source": [
    "pipeline = Pipeline(stages=[tokenizer, hashingTf, idf, feature_assembler])"
   ]
  },
  {
   "cell_type": "code",
   "execution_count": 110,
   "metadata": {},
   "outputs": [
    {
     "name": "stderr",
     "output_type": "stream",
     "text": [
      "                                                                                \r"
     ]
    }
   ],
   "source": [
    "pipeline_model = pipeline.fit(train_data)"
   ]
  },
  {
   "cell_type": "code",
   "execution_count": 111,
   "metadata": {},
   "outputs": [],
   "source": [
    "train_transformed = pipeline_model.transform(train_data)\n",
    "test_transformed = pipeline_model.transform(test_data)"
   ]
  },
  {
   "cell_type": "code",
   "execution_count": 112,
   "metadata": {},
   "outputs": [
    {
     "name": "stderr",
     "output_type": "stream",
     "text": [
      "[Stage 299:>                                                        (0 + 1) / 1]\r"
     ]
    },
    {
     "name": "stdout",
     "output_type": "stream",
     "text": [
      "+------+--------------------+--------------------+--------------------+--------------------+--------------------+\n",
      "|target|             content|           tokenized|            tfhashed|            features|     features_vector|\n",
      "+------+--------------------+--------------------+--------------------+--------------------+--------------------+\n",
      "|     0|900 state depart ...|[900, state, depa...|(100,[8,10,12,16,...|(100,[8,10,12,16,...|(100,[8,10,12,16,...|\n",
      "|     0|act sec chair sig...|[act, sec, chair,...|(100,[0,1,2,3,4,5...|(100,[0,1,2,3,4,5...|[0.86299586540780...|\n",
      "+------+--------------------+--------------------+--------------------+--------------------+--------------------+\n",
      "only showing top 2 rows\n",
      "\n"
     ]
    },
    {
     "name": "stderr",
     "output_type": "stream",
     "text": [
      "                                                                                \r"
     ]
    }
   ],
   "source": [
    "test_transformed.show(2)"
   ]
  },
  {
   "cell_type": "code",
   "execution_count": 117,
   "metadata": {},
   "outputs": [
    {
     "name": "stderr",
     "output_type": "stream",
     "text": [
      "[Stage 334:>                                                        (0 + 1) / 1]\r"
     ]
    },
    {
     "name": "stdout",
     "output_type": "stream",
     "text": [
      "+------+--------------------+--------------------+--------------------+--------------------+--------------------+\n",
      "|target|             content|           tokenized|            tfhashed|            features|     features_vector|\n",
      "+------+--------------------+--------------------+--------------------+--------------------+--------------------+\n",
      "|     0|17yearold danish ...|[17yearold, danis...|(100,[0,1,8,14,15...|(100,[0,1,8,14,15...|(100,[0,1,8,14,15...|\n",
      "|     0|2 hous republican...|[2, hous, republi...|(100,[2,4,5,11,13...|(100,[2,4,5,11,13...|(100,[2,4,5,11,13...|\n",
      "+------+--------------------+--------------------+--------------------+--------------------+--------------------+\n",
      "only showing top 2 rows\n",
      "\n"
     ]
    },
    {
     "name": "stderr",
     "output_type": "stream",
     "text": [
      "                                                                                \r"
     ]
    }
   ],
   "source": [
    "train_transformed.show(2)"
   ]
  },
  {
   "cell_type": "markdown",
   "metadata": {},
   "source": [
    "### Save data locally"
   ]
  },
  {
   "cell_type": "code",
   "execution_count": 114,
   "metadata": {},
   "outputs": [],
   "source": [
    "path = \"data/processed\"\n",
    "if not os.path.exists(path):\n",
    "    os.makedirs(path)"
   ]
  },
  {
   "cell_type": "code",
   "execution_count": 115,
   "metadata": {},
   "outputs": [
    {
     "name": "stderr",
     "output_type": "stream",
     "text": [
      "                                                                                \r"
     ]
    }
   ],
   "source": [
    "# training set\n",
    "train_transformed.coalesce(1).toPandas().to_csv(\"data/processed/train_transformed.csv\", index=False)\n",
    "\n",
    "# testing set\n",
    "train_transformed.coalesce(1).toPandas().to_csv(\"data/processed/test_transformed.csv\", index=False)"
   ]
  },
  {
   "cell_type": "code",
   "execution_count": null,
   "metadata": {},
   "outputs": [],
   "source": []
  }
 ],
 "metadata": {
  "kernelspec": {
   "display_name": "venv",
   "language": "python",
   "name": "python3"
  },
  "language_info": {
   "codemirror_mode": {
    "name": "ipython",
    "version": 3
   },
   "file_extension": ".py",
   "mimetype": "text/x-python",
   "name": "python",
   "nbconvert_exporter": "python",
   "pygments_lexer": "ipython3",
   "version": "3.12.0"
  }
 },
 "nbformat": 4,
 "nbformat_minor": 2
}
