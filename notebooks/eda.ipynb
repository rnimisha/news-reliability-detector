{
 "cells": [
  {
   "cell_type": "code",
   "execution_count": 22,
   "metadata": {},
   "outputs": [],
   "source": [
    "import os\n",
    "\n",
    "project_root = \"/Users/nimisha/Desktop/learning/news-reliability-detector/\"\n",
    "os.chdir(project_root)"
   ]
  },
  {
   "cell_type": "code",
   "execution_count": 23,
   "metadata": {},
   "outputs": [],
   "source": [
    "from pyspark.sql import SparkSession\n",
    "from pyspark.sql.functions import isnan, when, count, col\n",
    "import matplotlib.pyplot as plt\n",
    "\n",
    "# local modules\n",
    "from src.load.load_data import load"
   ]
  },
  {
   "cell_type": "code",
   "execution_count": 24,
   "metadata": {},
   "outputs": [],
   "source": [
    "spark = SparkSession.builder.appName(\"NewsReliability\").getOrCreate()"
   ]
  },
  {
   "cell_type": "code",
   "execution_count": 25,
   "metadata": {},
   "outputs": [],
   "source": [
    "data = load(spark)"
   ]
  },
  {
   "cell_type": "code",
   "execution_count": 26,
   "metadata": {},
   "outputs": [
    {
     "name": "stdout",
     "output_type": "stream",
     "text": [
      "+--------------------+--------------------+-------+-----------------+------+\n",
      "|               title|                text|subject|             date|target|\n",
      "+--------------------+--------------------+-------+-----------------+------+\n",
      "| Donald Trump Sen...|Donald Trump just...|   News|December 31, 2017|     1|\n",
      "| Drunk Bragging T...|House Intelligenc...|   News|December 31, 2017|     1|\n",
      "| Sheriff David Cl...|On Friday, it was...|   News|December 30, 2017|     1|\n",
      "| Trump Is So Obse...|On Christmas day,...|   News|December 29, 2017|     1|\n",
      "| Pope Francis Jus...|Pope Francis used...|   News|December 25, 2017|     1|\n",
      "| Racist Alabama C...|The number of cas...|   News|December 25, 2017|     1|\n",
      "| Fresh Off The Go...|Donald Trump spen...|   News|December 23, 2017|     1|\n",
      "| Trump Said Some ...|In the wake of ye...|   News|December 23, 2017|     1|\n",
      "| Former CIA Direc...|Many people have ...|   News|December 22, 2017|     1|\n",
      "| WATCH: Brand-New...|Just when you mig...|   News|December 21, 2017|     1|\n",
      "+--------------------+--------------------+-------+-----------------+------+\n",
      "only showing top 10 rows\n",
      "\n"
     ]
    }
   ],
   "source": [
    "data.show(10)"
   ]
  },
  {
   "cell_type": "code",
   "execution_count": 27,
   "metadata": {},
   "outputs": [
    {
     "name": "stdout",
     "output_type": "stream",
     "text": [
      "root\n",
      " |-- title: string (nullable = true)\n",
      " |-- text: string (nullable = true)\n",
      " |-- subject: string (nullable = true)\n",
      " |-- date: string (nullable = true)\n",
      " |-- target: integer (nullable = false)\n",
      "\n"
     ]
    }
   ],
   "source": [
    "data.printSchema()"
   ]
  },
  {
   "cell_type": "code",
   "execution_count": null,
   "metadata": {},
   "outputs": [],
   "source": []
  }
 ],
 "metadata": {
  "kernelspec": {
   "display_name": "venv",
   "language": "python",
   "name": "python3"
  },
  "language_info": {
   "codemirror_mode": {
    "name": "ipython",
    "version": 3
   },
   "file_extension": ".py",
   "mimetype": "text/x-python",
   "name": "python",
   "nbconvert_exporter": "python",
   "pygments_lexer": "ipython3",
   "version": "3.12.0"
  }
 },
 "nbformat": 4,
 "nbformat_minor": 2
}
